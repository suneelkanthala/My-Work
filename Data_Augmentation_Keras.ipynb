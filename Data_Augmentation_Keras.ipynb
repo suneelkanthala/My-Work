{
  "nbformat": 4,
  "nbformat_minor": 0,
  "metadata": {
    "colab": {
      "name": "Data Augmentation Keras.ipynb",
      "provenance": [],
      "collapsed_sections": [],
      "mount_file_id": "1Dgj2FIwuGGSBkxdhXcO0R1daO3tpdWkk",
      "authorship_tag": "ABX9TyOklqrQ1tKrs/643poWWg1N",
      "include_colab_link": true
    },
    "kernelspec": {
      "name": "python3",
      "display_name": "Python 3"
    }
  },
  "cells": [
    {
      "cell_type": "markdown",
      "metadata": {
        "id": "view-in-github",
        "colab_type": "text"
      },
      "source": [
        "<a href=\"https://colab.research.google.com/github/suneelkanthala/My-Work/blob/master/Data_Augmentation_Keras.ipynb\" target=\"_parent\"><img src=\"https://colab.research.google.com/assets/colab-badge.svg\" alt=\"Open In Colab\"/></a>"
      ]
    },
    {
      "cell_type": "code",
      "metadata": {
        "id": "8LSD5rkPYLAt"
      },
      "source": [
        "from keras.preprocessing.image import ImageDataGenerator, array_to_img, img_to_array, load_img"
      ],
      "execution_count": 2,
      "outputs": []
    },
    {
      "cell_type": "code",
      "metadata": {
        "id": "N9fUBqQAYhP7"
      },
      "source": [
        "datagen = ImageDataGenerator(\r\n",
        "    rotation_range=40,\r\n",
        "    width_shift_range=0.2,\r\n",
        "    height_shift_range=0.2,\r\n",
        "    shear_range=0.2,\r\n",
        "    zoom_range=0.2,\r\n",
        "    horizontal_flip=True,\r\n",
        "    fill_mode='nearest'\r\n",
        ")"
      ],
      "execution_count": 4,
      "outputs": []
    },
    {
      "cell_type": "code",
      "metadata": {
        "id": "wVfL1oZVY5TU"
      },
      "source": [
        "img = load_img('/content/drive/MyDrive/My Work/My_Learning/CNN/Data/NO=11 copy.jpg')\r\n",
        "x= img_to_array(img)\r\n",
        "x = x.reshape((1,)+x.shape)"
      ],
      "execution_count": 6,
      "outputs": []
    },
    {
      "cell_type": "code",
      "metadata": {
        "id": "ej-0Pa-vZPaD"
      },
      "source": [
        "i=0\r\n",
        "for batch in datagen.flow(x, batch_size=1, save_to_dir='/content/drive/MyDrive/My Work/My_Learning/CNN', save_prefix='suneel', save_format='jpeg'):\r\n",
        "  i +=1\r\n",
        "  if i>20:\r\n",
        "    break"
      ],
      "execution_count": 8,
      "outputs": []
    }
  ]
}