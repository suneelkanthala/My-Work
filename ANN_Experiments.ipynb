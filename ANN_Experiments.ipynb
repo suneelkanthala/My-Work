{
  "nbformat": 4,
  "nbformat_minor": 0,
  "metadata": {
    "colab": {
      "name": "ANN Experiments.ipynb",
      "provenance": [],
      "collapsed_sections": [],
      "mount_file_id": "1sEAVHywEe7J13YSowSvJbQt_rxf-wwj8",
      "authorship_tag": "ABX9TyO41dPR5TQWhZ8h0Qarbp0z",
      "include_colab_link": true
    },
    "kernelspec": {
      "name": "python3",
      "display_name": "Python 3"
    },
    "accelerator": "GPU"
  },
  "cells": [
    {
      "cell_type": "markdown",
      "metadata": {
        "id": "view-in-github",
        "colab_type": "text"
      },
      "source": [
        "<a href=\"https://colab.research.google.com/github/suneelkanthala/My-Work/blob/master/ANN_Experiments.ipynb\" target=\"_parent\"><img src=\"https://colab.research.google.com/assets/colab-badge.svg\" alt=\"Open In Colab\"/></a>"
      ]
    },
    {
      "cell_type": "code",
      "metadata": {
        "colab": {
          "base_uri": "https://localhost:8080/"
        },
        "id": "FkWtv2WAc_n1",
        "outputId": "e09891f8-eae8-4202-c8f9-856d10e9a0aa"
      },
      "source": [
        "!pip install keras"
      ],
      "execution_count": 1,
      "outputs": [
        {
          "output_type": "stream",
          "text": [
            "Requirement already satisfied: keras in /usr/local/lib/python3.6/dist-packages (2.4.3)\n",
            "Requirement already satisfied: scipy>=0.14 in /usr/local/lib/python3.6/dist-packages (from keras) (1.4.1)\n",
            "Requirement already satisfied: numpy>=1.9.1 in /usr/local/lib/python3.6/dist-packages (from keras) (1.19.5)\n",
            "Requirement already satisfied: pyyaml in /usr/local/lib/python3.6/dist-packages (from keras) (3.13)\n",
            "Requirement already satisfied: h5py in /usr/local/lib/python3.6/dist-packages (from keras) (2.10.0)\n",
            "Requirement already satisfied: six in /usr/local/lib/python3.6/dist-packages (from h5py->keras) (1.15.0)\n"
          ],
          "name": "stdout"
        }
      ]
    },
    {
      "cell_type": "markdown",
      "metadata": {
        "id": "GFQ0lX0KEmgr"
      },
      "source": [
        "## Device Information"
      ]
    },
    {
      "cell_type": "code",
      "metadata": {
        "colab": {
          "base_uri": "https://localhost:8080/",
          "height": 35
        },
        "id": "DDYZmgKgDezN",
        "outputId": "0f85866d-3ce8-44e2-e29a-472c8ad52778"
      },
      "source": [
        "import tensorflow as tf\r\n",
        "tf.test.gpu_device_name()"
      ],
      "execution_count": 1,
      "outputs": [
        {
          "output_type": "execute_result",
          "data": {
            "application/vnd.google.colaboratory.intrinsic+json": {
              "type": "string"
            },
            "text/plain": [
              "'/device:GPU:0'"
            ]
          },
          "metadata": {
            "tags": []
          },
          "execution_count": 1
        }
      ]
    },
    {
      "cell_type": "markdown",
      "metadata": {
        "id": "u-eHEPJDEhvo"
      },
      "source": [
        "## Devices list"
      ]
    },
    {
      "cell_type": "code",
      "metadata": {
        "colab": {
          "base_uri": "https://localhost:8080/"
        },
        "id": "t2KLIwO4DwgG",
        "outputId": "8bfa0d85-d9bf-48f5-eb56-6ac2c409a3f0"
      },
      "source": [
        "from tensorflow.python.client import device_lib\r\n",
        "device_lib.list_local_devices()"
      ],
      "execution_count": 2,
      "outputs": [
        {
          "output_type": "execute_result",
          "data": {
            "text/plain": [
              "[name: \"/device:CPU:0\"\n",
              " device_type: \"CPU\"\n",
              " memory_limit: 268435456\n",
              " locality {\n",
              " }\n",
              " incarnation: 16628581444380469793, name: \"/device:GPU:0\"\n",
              " device_type: \"GPU\"\n",
              " memory_limit: 14638920512\n",
              " locality {\n",
              "   bus_id: 1\n",
              "   links {\n",
              "   }\n",
              " }\n",
              " incarnation: 11978333911403283526\n",
              " physical_device_desc: \"device: 0, name: Tesla T4, pci bus id: 0000:00:04.0, compute capability: 7.5\"]"
            ]
          },
          "metadata": {
            "tags": []
          },
          "execution_count": 2
        }
      ]
    },
    {
      "cell_type": "markdown",
      "metadata": {
        "id": "56495PIxEUT4"
      },
      "source": [
        "## Ram Inofrmation"
      ]
    },
    {
      "cell_type": "code",
      "metadata": {
        "colab": {
          "base_uri": "https://localhost:8080/"
        },
        "id": "_9m6QAWuEL1u",
        "outputId": "4b311202-d98e-4270-90ed-529353a14e62"
      },
      "source": [
        "!cat /proc/meminfo"
      ],
      "execution_count": 3,
      "outputs": [
        {
          "output_type": "stream",
          "text": [
            "MemTotal:       13333580 kB\n",
            "MemFree:         9046296 kB\n",
            "MemAvailable:   11871928 kB\n",
            "Buffers:           93424 kB\n",
            "Cached:          2763840 kB\n",
            "SwapCached:            0 kB\n",
            "Active:          1272448 kB\n",
            "Inactive:        2597400 kB\n",
            "Active(anon):     863116 kB\n",
            "Inactive(anon):     8576 kB\n",
            "Active(file):     409332 kB\n",
            "Inactive(file):  2588824 kB\n",
            "Unevictable:           0 kB\n",
            "Mlocked:               0 kB\n",
            "SwapTotal:             0 kB\n",
            "SwapFree:              0 kB\n",
            "Dirty:               564 kB\n",
            "Writeback:             0 kB\n",
            "AnonPages:       1012652 kB\n",
            "Mapped:           579656 kB\n",
            "Shmem:              9244 kB\n",
            "Slab:             184876 kB\n",
            "SReclaimable:     136564 kB\n",
            "SUnreclaim:        48312 kB\n",
            "KernelStack:        5216 kB\n",
            "PageTables:         9120 kB\n",
            "NFS_Unstable:          0 kB\n",
            "Bounce:                0 kB\n",
            "WritebackTmp:          0 kB\n",
            "CommitLimit:     6666788 kB\n",
            "Committed_AS:    4071356 kB\n",
            "VmallocTotal:   34359738367 kB\n",
            "VmallocUsed:           0 kB\n",
            "VmallocChunk:          0 kB\n",
            "Percpu:             1048 kB\n",
            "AnonHugePages:         0 kB\n",
            "ShmemHugePages:        0 kB\n",
            "ShmemPmdMapped:        0 kB\n",
            "HugePages_Total:       0\n",
            "HugePages_Free:        0\n",
            "HugePages_Rsvd:        0\n",
            "HugePages_Surp:        0\n",
            "Hugepagesize:       2048 kB\n",
            "Hugetlb:               0 kB\n",
            "DirectMap4k:      185576 kB\n",
            "DirectMap2M:     5056512 kB\n",
            "DirectMap1G:    10485760 kB\n"
          ],
          "name": "stdout"
        }
      ]
    },
    {
      "cell_type": "markdown",
      "metadata": {
        "id": "tM_YL-cNEaR4"
      },
      "source": [
        "## CPU Information"
      ]
    },
    {
      "cell_type": "code",
      "metadata": {
        "colab": {
          "base_uri": "https://localhost:8080/"
        },
        "id": "sNdCpt_EEdps",
        "outputId": "1eebb5ee-37ce-4177-9815-88e90d772da5"
      },
      "source": [
        "!cat /proc/cpuinfo"
      ],
      "execution_count": 4,
      "outputs": [
        {
          "output_type": "stream",
          "text": [
            "processor\t: 0\n",
            "vendor_id\t: GenuineIntel\n",
            "cpu family\t: 6\n",
            "model\t\t: 79\n",
            "model name\t: Intel(R) Xeon(R) CPU @ 2.20GHz\n",
            "stepping\t: 0\n",
            "microcode\t: 0x1\n",
            "cpu MHz\t\t: 2199.998\n",
            "cache size\t: 56320 KB\n",
            "physical id\t: 0\n",
            "siblings\t: 2\n",
            "core id\t\t: 0\n",
            "cpu cores\t: 1\n",
            "apicid\t\t: 0\n",
            "initial apicid\t: 0\n",
            "fpu\t\t: yes\n",
            "fpu_exception\t: yes\n",
            "cpuid level\t: 13\n",
            "wp\t\t: yes\n",
            "flags\t\t: fpu vme de pse tsc msr pae mce cx8 apic sep mtrr pge mca cmov pat pse36 clflush mmx fxsr sse sse2 ss ht syscall nx pdpe1gb rdtscp lm constant_tsc rep_good nopl xtopology nonstop_tsc cpuid tsc_known_freq pni pclmulqdq ssse3 fma cx16 pcid sse4_1 sse4_2 x2apic movbe popcnt aes xsave avx f16c rdrand hypervisor lahf_lm abm 3dnowprefetch invpcid_single ssbd ibrs ibpb stibp fsgsbase tsc_adjust bmi1 hle avx2 smep bmi2 erms invpcid rtm rdseed adx smap xsaveopt arat md_clear arch_capabilities\n",
            "bugs\t\t: cpu_meltdown spectre_v1 spectre_v2 spec_store_bypass l1tf mds swapgs taa\n",
            "bogomips\t: 4399.99\n",
            "clflush size\t: 64\n",
            "cache_alignment\t: 64\n",
            "address sizes\t: 46 bits physical, 48 bits virtual\n",
            "power management:\n",
            "\n",
            "processor\t: 1\n",
            "vendor_id\t: GenuineIntel\n",
            "cpu family\t: 6\n",
            "model\t\t: 79\n",
            "model name\t: Intel(R) Xeon(R) CPU @ 2.20GHz\n",
            "stepping\t: 0\n",
            "microcode\t: 0x1\n",
            "cpu MHz\t\t: 2199.998\n",
            "cache size\t: 56320 KB\n",
            "physical id\t: 0\n",
            "siblings\t: 2\n",
            "core id\t\t: 0\n",
            "cpu cores\t: 1\n",
            "apicid\t\t: 1\n",
            "initial apicid\t: 1\n",
            "fpu\t\t: yes\n",
            "fpu_exception\t: yes\n",
            "cpuid level\t: 13\n",
            "wp\t\t: yes\n",
            "flags\t\t: fpu vme de pse tsc msr pae mce cx8 apic sep mtrr pge mca cmov pat pse36 clflush mmx fxsr sse sse2 ss ht syscall nx pdpe1gb rdtscp lm constant_tsc rep_good nopl xtopology nonstop_tsc cpuid tsc_known_freq pni pclmulqdq ssse3 fma cx16 pcid sse4_1 sse4_2 x2apic movbe popcnt aes xsave avx f16c rdrand hypervisor lahf_lm abm 3dnowprefetch invpcid_single ssbd ibrs ibpb stibp fsgsbase tsc_adjust bmi1 hle avx2 smep bmi2 erms invpcid rtm rdseed adx smap xsaveopt arat md_clear arch_capabilities\n",
            "bugs\t\t: cpu_meltdown spectre_v1 spectre_v2 spec_store_bypass l1tf mds swapgs taa\n",
            "bogomips\t: 4399.99\n",
            "clflush size\t: 64\n",
            "cache_alignment\t: 64\n",
            "address sizes\t: 46 bits physical, 48 bits virtual\n",
            "power management:\n",
            "\n"
          ],
          "name": "stdout"
        }
      ]
    },
    {
      "cell_type": "code",
      "metadata": {
        "id": "Aj04PnT0gMgi"
      },
      "source": [
        "import numpy as np\r\n",
        "import matplotlib.pyplot as plt\r\n",
        "import pandas as pd"
      ],
      "execution_count": 2,
      "outputs": []
    },
    {
      "cell_type": "code",
      "metadata": {
        "colab": {
          "base_uri": "https://localhost:8080/"
        },
        "id": "qmiIQR0fizDN",
        "outputId": "4595d84f-1192-4f55-84bd-ca2e92739087"
      },
      "source": [
        "data = pd.read_csv('/content/drive/MyDrive/My Work/My_Learning/Churn_Modelling.csv')\r\n",
        "data.info()"
      ],
      "execution_count": 3,
      "outputs": [
        {
          "output_type": "stream",
          "text": [
            "<class 'pandas.core.frame.DataFrame'>\n",
            "RangeIndex: 10000 entries, 0 to 9999\n",
            "Data columns (total 14 columns):\n",
            " #   Column           Non-Null Count  Dtype  \n",
            "---  ------           --------------  -----  \n",
            " 0   RowNumber        10000 non-null  int64  \n",
            " 1   CustomerId       10000 non-null  int64  \n",
            " 2   Surname          10000 non-null  object \n",
            " 3   CreditScore      10000 non-null  int64  \n",
            " 4   Geography        10000 non-null  object \n",
            " 5   Gender           10000 non-null  object \n",
            " 6   Age              10000 non-null  int64  \n",
            " 7   Tenure           10000 non-null  int64  \n",
            " 8   Balance          10000 non-null  float64\n",
            " 9   NumOfProducts    10000 non-null  int64  \n",
            " 10  HasCrCard        10000 non-null  int64  \n",
            " 11  IsActiveMember   10000 non-null  int64  \n",
            " 12  EstimatedSalary  10000 non-null  float64\n",
            " 13  Exited           10000 non-null  int64  \n",
            "dtypes: float64(2), int64(9), object(3)\n",
            "memory usage: 1.1+ MB\n"
          ],
          "name": "stdout"
        }
      ]
    },
    {
      "cell_type": "code",
      "metadata": {
        "id": "j3BjiTIejVT0"
      },
      "source": [
        "X = data.iloc[:,3:13]\r\n",
        "y = data.iloc[:,13]"
      ],
      "execution_count": 4,
      "outputs": []
    },
    {
      "cell_type": "code",
      "metadata": {
        "id": "n9XKYWwGENAp"
      },
      "source": [
        "geo = pd.get_dummies(X['Geography'], drop_first=True)\r\n",
        "gender = pd.get_dummies(X['Gender'], drop_first=True)"
      ],
      "execution_count": 5,
      "outputs": []
    },
    {
      "cell_type": "code",
      "metadata": {
        "colab": {
          "base_uri": "https://localhost:8080/",
          "height": 197
        },
        "id": "9T23tI5bE0nG",
        "outputId": "01b16a14-ef83-4fb4-bd4d-50d550d63b8f"
      },
      "source": [
        "X = pd.concat([X,geo,gender], axis=1)\r\n",
        "X.head()"
      ],
      "execution_count": 6,
      "outputs": [
        {
          "output_type": "execute_result",
          "data": {
            "text/html": [
              "<div>\n",
              "<style scoped>\n",
              "    .dataframe tbody tr th:only-of-type {\n",
              "        vertical-align: middle;\n",
              "    }\n",
              "\n",
              "    .dataframe tbody tr th {\n",
              "        vertical-align: top;\n",
              "    }\n",
              "\n",
              "    .dataframe thead th {\n",
              "        text-align: right;\n",
              "    }\n",
              "</style>\n",
              "<table border=\"1\" class=\"dataframe\">\n",
              "  <thead>\n",
              "    <tr style=\"text-align: right;\">\n",
              "      <th></th>\n",
              "      <th>CreditScore</th>\n",
              "      <th>Geography</th>\n",
              "      <th>Gender</th>\n",
              "      <th>Age</th>\n",
              "      <th>Tenure</th>\n",
              "      <th>Balance</th>\n",
              "      <th>NumOfProducts</th>\n",
              "      <th>HasCrCard</th>\n",
              "      <th>IsActiveMember</th>\n",
              "      <th>EstimatedSalary</th>\n",
              "      <th>Germany</th>\n",
              "      <th>Spain</th>\n",
              "      <th>Male</th>\n",
              "    </tr>\n",
              "  </thead>\n",
              "  <tbody>\n",
              "    <tr>\n",
              "      <th>0</th>\n",
              "      <td>619</td>\n",
              "      <td>France</td>\n",
              "      <td>Female</td>\n",
              "      <td>42</td>\n",
              "      <td>2</td>\n",
              "      <td>0.00</td>\n",
              "      <td>1</td>\n",
              "      <td>1</td>\n",
              "      <td>1</td>\n",
              "      <td>101348.88</td>\n",
              "      <td>0</td>\n",
              "      <td>0</td>\n",
              "      <td>0</td>\n",
              "    </tr>\n",
              "    <tr>\n",
              "      <th>1</th>\n",
              "      <td>608</td>\n",
              "      <td>Spain</td>\n",
              "      <td>Female</td>\n",
              "      <td>41</td>\n",
              "      <td>1</td>\n",
              "      <td>83807.86</td>\n",
              "      <td>1</td>\n",
              "      <td>0</td>\n",
              "      <td>1</td>\n",
              "      <td>112542.58</td>\n",
              "      <td>0</td>\n",
              "      <td>1</td>\n",
              "      <td>0</td>\n",
              "    </tr>\n",
              "    <tr>\n",
              "      <th>2</th>\n",
              "      <td>502</td>\n",
              "      <td>France</td>\n",
              "      <td>Female</td>\n",
              "      <td>42</td>\n",
              "      <td>8</td>\n",
              "      <td>159660.80</td>\n",
              "      <td>3</td>\n",
              "      <td>1</td>\n",
              "      <td>0</td>\n",
              "      <td>113931.57</td>\n",
              "      <td>0</td>\n",
              "      <td>0</td>\n",
              "      <td>0</td>\n",
              "    </tr>\n",
              "    <tr>\n",
              "      <th>3</th>\n",
              "      <td>699</td>\n",
              "      <td>France</td>\n",
              "      <td>Female</td>\n",
              "      <td>39</td>\n",
              "      <td>1</td>\n",
              "      <td>0.00</td>\n",
              "      <td>2</td>\n",
              "      <td>0</td>\n",
              "      <td>0</td>\n",
              "      <td>93826.63</td>\n",
              "      <td>0</td>\n",
              "      <td>0</td>\n",
              "      <td>0</td>\n",
              "    </tr>\n",
              "    <tr>\n",
              "      <th>4</th>\n",
              "      <td>850</td>\n",
              "      <td>Spain</td>\n",
              "      <td>Female</td>\n",
              "      <td>43</td>\n",
              "      <td>2</td>\n",
              "      <td>125510.82</td>\n",
              "      <td>1</td>\n",
              "      <td>1</td>\n",
              "      <td>1</td>\n",
              "      <td>79084.10</td>\n",
              "      <td>0</td>\n",
              "      <td>1</td>\n",
              "      <td>0</td>\n",
              "    </tr>\n",
              "  </tbody>\n",
              "</table>\n",
              "</div>"
            ],
            "text/plain": [
              "   CreditScore Geography  Gender  Age  ...  EstimatedSalary  Germany  Spain  Male\n",
              "0          619    France  Female   42  ...        101348.88        0      0     0\n",
              "1          608     Spain  Female   41  ...        112542.58        0      1     0\n",
              "2          502    France  Female   42  ...        113931.57        0      0     0\n",
              "3          699    France  Female   39  ...         93826.63        0      0     0\n",
              "4          850     Spain  Female   43  ...         79084.10        0      1     0\n",
              "\n",
              "[5 rows x 13 columns]"
            ]
          },
          "metadata": {
            "tags": []
          },
          "execution_count": 6
        }
      ]
    },
    {
      "cell_type": "code",
      "metadata": {
        "id": "fpchH865E_y6"
      },
      "source": [
        "X.drop(columns=['Geography', 'Gender'], axis=1, inplace=True)"
      ],
      "execution_count": 7,
      "outputs": []
    },
    {
      "cell_type": "code",
      "metadata": {
        "colab": {
          "base_uri": "https://localhost:8080/",
          "height": 197
        },
        "id": "ildIelZGFKnn",
        "outputId": "9989b031-fd8a-49ce-9ee2-8c79ead20530"
      },
      "source": [
        "X.head()"
      ],
      "execution_count": 8,
      "outputs": [
        {
          "output_type": "execute_result",
          "data": {
            "text/html": [
              "<div>\n",
              "<style scoped>\n",
              "    .dataframe tbody tr th:only-of-type {\n",
              "        vertical-align: middle;\n",
              "    }\n",
              "\n",
              "    .dataframe tbody tr th {\n",
              "        vertical-align: top;\n",
              "    }\n",
              "\n",
              "    .dataframe thead th {\n",
              "        text-align: right;\n",
              "    }\n",
              "</style>\n",
              "<table border=\"1\" class=\"dataframe\">\n",
              "  <thead>\n",
              "    <tr style=\"text-align: right;\">\n",
              "      <th></th>\n",
              "      <th>CreditScore</th>\n",
              "      <th>Age</th>\n",
              "      <th>Tenure</th>\n",
              "      <th>Balance</th>\n",
              "      <th>NumOfProducts</th>\n",
              "      <th>HasCrCard</th>\n",
              "      <th>IsActiveMember</th>\n",
              "      <th>EstimatedSalary</th>\n",
              "      <th>Germany</th>\n",
              "      <th>Spain</th>\n",
              "      <th>Male</th>\n",
              "    </tr>\n",
              "  </thead>\n",
              "  <tbody>\n",
              "    <tr>\n",
              "      <th>0</th>\n",
              "      <td>619</td>\n",
              "      <td>42</td>\n",
              "      <td>2</td>\n",
              "      <td>0.00</td>\n",
              "      <td>1</td>\n",
              "      <td>1</td>\n",
              "      <td>1</td>\n",
              "      <td>101348.88</td>\n",
              "      <td>0</td>\n",
              "      <td>0</td>\n",
              "      <td>0</td>\n",
              "    </tr>\n",
              "    <tr>\n",
              "      <th>1</th>\n",
              "      <td>608</td>\n",
              "      <td>41</td>\n",
              "      <td>1</td>\n",
              "      <td>83807.86</td>\n",
              "      <td>1</td>\n",
              "      <td>0</td>\n",
              "      <td>1</td>\n",
              "      <td>112542.58</td>\n",
              "      <td>0</td>\n",
              "      <td>1</td>\n",
              "      <td>0</td>\n",
              "    </tr>\n",
              "    <tr>\n",
              "      <th>2</th>\n",
              "      <td>502</td>\n",
              "      <td>42</td>\n",
              "      <td>8</td>\n",
              "      <td>159660.80</td>\n",
              "      <td>3</td>\n",
              "      <td>1</td>\n",
              "      <td>0</td>\n",
              "      <td>113931.57</td>\n",
              "      <td>0</td>\n",
              "      <td>0</td>\n",
              "      <td>0</td>\n",
              "    </tr>\n",
              "    <tr>\n",
              "      <th>3</th>\n",
              "      <td>699</td>\n",
              "      <td>39</td>\n",
              "      <td>1</td>\n",
              "      <td>0.00</td>\n",
              "      <td>2</td>\n",
              "      <td>0</td>\n",
              "      <td>0</td>\n",
              "      <td>93826.63</td>\n",
              "      <td>0</td>\n",
              "      <td>0</td>\n",
              "      <td>0</td>\n",
              "    </tr>\n",
              "    <tr>\n",
              "      <th>4</th>\n",
              "      <td>850</td>\n",
              "      <td>43</td>\n",
              "      <td>2</td>\n",
              "      <td>125510.82</td>\n",
              "      <td>1</td>\n",
              "      <td>1</td>\n",
              "      <td>1</td>\n",
              "      <td>79084.10</td>\n",
              "      <td>0</td>\n",
              "      <td>1</td>\n",
              "      <td>0</td>\n",
              "    </tr>\n",
              "  </tbody>\n",
              "</table>\n",
              "</div>"
            ],
            "text/plain": [
              "   CreditScore  Age  Tenure    Balance  ...  EstimatedSalary  Germany  Spain  Male\n",
              "0          619   42       2       0.00  ...        101348.88        0      0     0\n",
              "1          608   41       1   83807.86  ...        112542.58        0      1     0\n",
              "2          502   42       8  159660.80  ...        113931.57        0      0     0\n",
              "3          699   39       1       0.00  ...         93826.63        0      0     0\n",
              "4          850   43       2  125510.82  ...         79084.10        0      1     0\n",
              "\n",
              "[5 rows x 11 columns]"
            ]
          },
          "metadata": {
            "tags": []
          },
          "execution_count": 8
        }
      ]
    },
    {
      "cell_type": "code",
      "metadata": {
        "id": "yeTGc9-NFPA8"
      },
      "source": [
        "from sklearn.model_selection import train_test_split\r\n",
        "X_train, X_test, y_train, y_test = train_test_split(X, y, test_size=0.2, random_state=42)"
      ],
      "execution_count": 9,
      "outputs": []
    },
    {
      "cell_type": "code",
      "metadata": {
        "colab": {
          "base_uri": "https://localhost:8080/"
        },
        "id": "EHycPXutG0eR",
        "outputId": "19a11724-82f9-495f-8153-5c2914cbf082"
      },
      "source": [
        "X_train.shape"
      ],
      "execution_count": 10,
      "outputs": [
        {
          "output_type": "execute_result",
          "data": {
            "text/plain": [
              "(8000, 11)"
            ]
          },
          "metadata": {
            "tags": []
          },
          "execution_count": 10
        }
      ]
    },
    {
      "cell_type": "code",
      "metadata": {
        "id": "VMziUw0UFg5_"
      },
      "source": [
        "from sklearn.preprocessing import StandardScaler\r\n",
        "sc = StandardScaler()\r\n",
        "X_train = sc.fit_transform(X_train)\r\n",
        "X_test = sc.fit_transform(X_test)"
      ],
      "execution_count": 11,
      "outputs": []
    },
    {
      "cell_type": "code",
      "metadata": {
        "id": "4YR5MRYkFuKd"
      },
      "source": [
        "import keras\r\n",
        "from keras.models import Sequential\r\n",
        "from keras.layers import Dense\r\n",
        "from keras.layers import LeakyReLU, PReLU, ELU\r\n",
        "from keras.layers import Dropout"
      ],
      "execution_count": 12,
      "outputs": []
    },
    {
      "cell_type": "code",
      "metadata": {
        "id": "UVW0XhDhGCqf"
      },
      "source": [
        "classifier = Sequential()\r\n",
        "\r\n",
        "classifier.add(Dense(units=6, kernel_initializer='he_uniform', activation='relu', input_dim=11))\r\n",
        "\r\n",
        "classifier.add(Dense(units=6, kernel_initializer='he_uniform', activation='relu'))\r\n",
        "\r\n",
        "classifier.add(Dense(units=1, kernel_initializer='glorot_uniform', activation = 'sigmoid'))\r\n"
      ],
      "execution_count": 13,
      "outputs": []
    },
    {
      "cell_type": "code",
      "metadata": {
        "colab": {
          "base_uri": "https://localhost:8080/"
        },
        "id": "MNIVlVIiHyXO",
        "outputId": "e388fb6f-8fdc-435e-9c17-f07d3a01bbf5"
      },
      "source": [
        "classifier.summary()"
      ],
      "execution_count": 14,
      "outputs": [
        {
          "output_type": "stream",
          "text": [
            "Model: \"sequential\"\n",
            "_________________________________________________________________\n",
            "Layer (type)                 Output Shape              Param #   \n",
            "=================================================================\n",
            "dense (Dense)                (None, 6)                 72        \n",
            "_________________________________________________________________\n",
            "dense_1 (Dense)              (None, 6)                 42        \n",
            "_________________________________________________________________\n",
            "dense_2 (Dense)              (None, 1)                 7         \n",
            "=================================================================\n",
            "Total params: 121\n",
            "Trainable params: 121\n",
            "Non-trainable params: 0\n",
            "_________________________________________________________________\n"
          ],
          "name": "stdout"
        }
      ]
    },
    {
      "cell_type": "code",
      "metadata": {
        "id": "aEJQbaBgHajj"
      },
      "source": [
        "classifier.compile(optimizer = 'Adamax', loss='binary_crossentropy', metrics=['accuracy'])"
      ],
      "execution_count": 15,
      "outputs": []
    },
    {
      "cell_type": "code",
      "metadata": {
        "colab": {
          "base_uri": "https://localhost:8080/"
        },
        "id": "juEDlYBrIEzZ",
        "outputId": "08f2fe2d-5999-4419-de1d-d632a78787d7"
      },
      "source": [
        "model_history=classifier.fit(X_train, y_train, validation_split=0.33, batch_size=10, epochs=100)"
      ],
      "execution_count": 16,
      "outputs": [
        {
          "output_type": "stream",
          "text": [
            "Epoch 1/100\n",
            "536/536 [==============================] - 2s 2ms/step - loss: 0.6006 - accuracy: 0.7614 - val_loss: 0.5580 - val_accuracy: 0.7910\n",
            "Epoch 2/100\n",
            "536/536 [==============================] - 1s 2ms/step - loss: 0.5431 - accuracy: 0.7939 - val_loss: 0.5342 - val_accuracy: 0.7910\n",
            "Epoch 3/100\n",
            "536/536 [==============================] - 1s 2ms/step - loss: 0.5170 - accuracy: 0.7958 - val_loss: 0.5194 - val_accuracy: 0.7910\n",
            "Epoch 4/100\n",
            "536/536 [==============================] - 1s 2ms/step - loss: 0.4956 - accuracy: 0.8052 - val_loss: 0.5084 - val_accuracy: 0.7910\n",
            "Epoch 5/100\n",
            "536/536 [==============================] - 1s 1ms/step - loss: 0.4915 - accuracy: 0.7953 - val_loss: 0.4995 - val_accuracy: 0.7910\n",
            "Epoch 6/100\n",
            "536/536 [==============================] - 1s 1ms/step - loss: 0.4858 - accuracy: 0.7954 - val_loss: 0.4919 - val_accuracy: 0.7910\n",
            "Epoch 7/100\n",
            "536/536 [==============================] - 1s 1ms/step - loss: 0.4914 - accuracy: 0.7837 - val_loss: 0.4856 - val_accuracy: 0.7910\n",
            "Epoch 8/100\n",
            "536/536 [==============================] - 1s 1ms/step - loss: 0.4711 - accuracy: 0.7949 - val_loss: 0.4799 - val_accuracy: 0.7910\n",
            "Epoch 9/100\n",
            "536/536 [==============================] - 1s 1ms/step - loss: 0.4699 - accuracy: 0.7946 - val_loss: 0.4756 - val_accuracy: 0.7910\n",
            "Epoch 10/100\n",
            "536/536 [==============================] - 1s 1ms/step - loss: 0.4701 - accuracy: 0.7829 - val_loss: 0.4713 - val_accuracy: 0.7910\n",
            "Epoch 11/100\n",
            "536/536 [==============================] - 1s 1ms/step - loss: 0.4439 - accuracy: 0.8033 - val_loss: 0.4676 - val_accuracy: 0.7910\n",
            "Epoch 12/100\n",
            "536/536 [==============================] - 1s 1ms/step - loss: 0.4462 - accuracy: 0.7977 - val_loss: 0.4647 - val_accuracy: 0.7910\n",
            "Epoch 13/100\n",
            "536/536 [==============================] - 1s 1ms/step - loss: 0.4509 - accuracy: 0.7896 - val_loss: 0.4623 - val_accuracy: 0.7910\n",
            "Epoch 14/100\n",
            "536/536 [==============================] - 1s 1ms/step - loss: 0.4271 - accuracy: 0.8064 - val_loss: 0.4597 - val_accuracy: 0.7910\n",
            "Epoch 15/100\n",
            "536/536 [==============================] - 1s 1ms/step - loss: 0.4375 - accuracy: 0.8021 - val_loss: 0.4577 - val_accuracy: 0.7910\n",
            "Epoch 16/100\n",
            "536/536 [==============================] - 1s 1ms/step - loss: 0.4318 - accuracy: 0.7976 - val_loss: 0.4557 - val_accuracy: 0.7910\n",
            "Epoch 17/100\n",
            "536/536 [==============================] - 1s 1ms/step - loss: 0.4253 - accuracy: 0.7995 - val_loss: 0.4543 - val_accuracy: 0.7910\n",
            "Epoch 18/100\n",
            "536/536 [==============================] - 1s 1ms/step - loss: 0.4377 - accuracy: 0.7951 - val_loss: 0.4531 - val_accuracy: 0.7910\n",
            "Epoch 19/100\n",
            "536/536 [==============================] - 1s 1ms/step - loss: 0.4272 - accuracy: 0.7994 - val_loss: 0.4517 - val_accuracy: 0.7910\n",
            "Epoch 20/100\n",
            "536/536 [==============================] - 1s 1ms/step - loss: 0.4381 - accuracy: 0.7921 - val_loss: 0.4511 - val_accuracy: 0.7910\n",
            "Epoch 21/100\n",
            "536/536 [==============================] - 1s 1ms/step - loss: 0.4363 - accuracy: 0.7921 - val_loss: 0.4501 - val_accuracy: 0.7910\n",
            "Epoch 22/100\n",
            "536/536 [==============================] - 1s 1ms/step - loss: 0.4356 - accuracy: 0.7979 - val_loss: 0.4493 - val_accuracy: 0.7910\n",
            "Epoch 23/100\n",
            "536/536 [==============================] - 1s 1ms/step - loss: 0.4165 - accuracy: 0.8031 - val_loss: 0.4481 - val_accuracy: 0.7910\n",
            "Epoch 24/100\n",
            "536/536 [==============================] - 1s 1ms/step - loss: 0.4353 - accuracy: 0.7967 - val_loss: 0.4474 - val_accuracy: 0.7910\n",
            "Epoch 25/100\n",
            "536/536 [==============================] - 1s 1ms/step - loss: 0.4337 - accuracy: 0.7961 - val_loss: 0.4465 - val_accuracy: 0.7910\n",
            "Epoch 26/100\n",
            "536/536 [==============================] - 1s 1ms/step - loss: 0.4156 - accuracy: 0.8017 - val_loss: 0.4454 - val_accuracy: 0.7910\n",
            "Epoch 27/100\n",
            "536/536 [==============================] - 1s 1ms/step - loss: 0.4188 - accuracy: 0.7978 - val_loss: 0.4448 - val_accuracy: 0.7910\n",
            "Epoch 28/100\n",
            "536/536 [==============================] - 1s 1ms/step - loss: 0.4122 - accuracy: 0.8055 - val_loss: 0.4439 - val_accuracy: 0.7910\n",
            "Epoch 29/100\n",
            "536/536 [==============================] - 1s 1ms/step - loss: 0.4123 - accuracy: 0.8038 - val_loss: 0.4431 - val_accuracy: 0.7910\n",
            "Epoch 30/100\n",
            "536/536 [==============================] - 1s 1ms/step - loss: 0.4112 - accuracy: 0.8041 - val_loss: 0.4423 - val_accuracy: 0.7910\n",
            "Epoch 31/100\n",
            "536/536 [==============================] - 1s 1ms/step - loss: 0.4132 - accuracy: 0.8005 - val_loss: 0.4416 - val_accuracy: 0.7910\n",
            "Epoch 32/100\n",
            "536/536 [==============================] - 1s 1ms/step - loss: 0.4256 - accuracy: 0.8007 - val_loss: 0.4412 - val_accuracy: 0.7910\n",
            "Epoch 33/100\n",
            "536/536 [==============================] - 1s 1ms/step - loss: 0.4199 - accuracy: 0.8020 - val_loss: 0.4405 - val_accuracy: 0.8186\n",
            "Epoch 34/100\n",
            "536/536 [==============================] - 1s 1ms/step - loss: 0.4298 - accuracy: 0.8109 - val_loss: 0.4398 - val_accuracy: 0.8198\n",
            "Epoch 35/100\n",
            "536/536 [==============================] - 1s 1ms/step - loss: 0.4250 - accuracy: 0.8171 - val_loss: 0.4390 - val_accuracy: 0.8209\n",
            "Epoch 36/100\n",
            "536/536 [==============================] - 1s 1ms/step - loss: 0.4098 - accuracy: 0.8254 - val_loss: 0.4383 - val_accuracy: 0.8228\n",
            "Epoch 37/100\n",
            "536/536 [==============================] - 1s 2ms/step - loss: 0.3994 - accuracy: 0.8329 - val_loss: 0.4374 - val_accuracy: 0.8251\n",
            "Epoch 38/100\n",
            "536/536 [==============================] - 1s 1ms/step - loss: 0.4180 - accuracy: 0.8236 - val_loss: 0.4367 - val_accuracy: 0.8270\n",
            "Epoch 39/100\n",
            "536/536 [==============================] - 1s 1ms/step - loss: 0.3998 - accuracy: 0.8355 - val_loss: 0.4359 - val_accuracy: 0.8281\n",
            "Epoch 40/100\n",
            "536/536 [==============================] - 1s 1ms/step - loss: 0.4110 - accuracy: 0.8296 - val_loss: 0.4353 - val_accuracy: 0.8273\n",
            "Epoch 41/100\n",
            "536/536 [==============================] - 1s 1ms/step - loss: 0.4091 - accuracy: 0.8326 - val_loss: 0.4349 - val_accuracy: 0.8277\n",
            "Epoch 42/100\n",
            "536/536 [==============================] - 1s 1ms/step - loss: 0.4045 - accuracy: 0.8347 - val_loss: 0.4344 - val_accuracy: 0.8285\n",
            "Epoch 43/100\n",
            "536/536 [==============================] - 1s 1ms/step - loss: 0.4172 - accuracy: 0.8291 - val_loss: 0.4337 - val_accuracy: 0.8277\n",
            "Epoch 44/100\n",
            "536/536 [==============================] - 1s 1ms/step - loss: 0.3981 - accuracy: 0.8396 - val_loss: 0.4330 - val_accuracy: 0.8273\n",
            "Epoch 45/100\n",
            "536/536 [==============================] - 1s 1ms/step - loss: 0.4196 - accuracy: 0.8241 - val_loss: 0.4327 - val_accuracy: 0.8289\n",
            "Epoch 46/100\n",
            "536/536 [==============================] - 1s 1ms/step - loss: 0.4039 - accuracy: 0.8346 - val_loss: 0.4318 - val_accuracy: 0.8285\n",
            "Epoch 47/100\n",
            "536/536 [==============================] - 1s 1ms/step - loss: 0.4192 - accuracy: 0.8323 - val_loss: 0.4319 - val_accuracy: 0.8296\n",
            "Epoch 48/100\n",
            "536/536 [==============================] - 1s 2ms/step - loss: 0.3941 - accuracy: 0.8400 - val_loss: 0.4310 - val_accuracy: 0.8289\n",
            "Epoch 49/100\n",
            "536/536 [==============================] - 1s 1ms/step - loss: 0.4161 - accuracy: 0.8314 - val_loss: 0.4308 - val_accuracy: 0.8281\n",
            "Epoch 50/100\n",
            "536/536 [==============================] - 1s 1ms/step - loss: 0.4032 - accuracy: 0.8400 - val_loss: 0.4302 - val_accuracy: 0.8281\n",
            "Epoch 51/100\n",
            "536/536 [==============================] - 1s 1ms/step - loss: 0.4201 - accuracy: 0.8274 - val_loss: 0.4300 - val_accuracy: 0.8289\n",
            "Epoch 52/100\n",
            "536/536 [==============================] - 1s 1ms/step - loss: 0.4147 - accuracy: 0.8289 - val_loss: 0.4293 - val_accuracy: 0.8292\n",
            "Epoch 53/100\n",
            "536/536 [==============================] - 1s 1ms/step - loss: 0.4000 - accuracy: 0.8370 - val_loss: 0.4284 - val_accuracy: 0.8289\n",
            "Epoch 54/100\n",
            "536/536 [==============================] - 1s 1ms/step - loss: 0.4178 - accuracy: 0.8299 - val_loss: 0.4288 - val_accuracy: 0.8304\n",
            "Epoch 55/100\n",
            "536/536 [==============================] - 1s 1ms/step - loss: 0.3851 - accuracy: 0.8486 - val_loss: 0.4275 - val_accuracy: 0.8323\n",
            "Epoch 56/100\n",
            "536/536 [==============================] - 1s 1ms/step - loss: 0.4107 - accuracy: 0.8390 - val_loss: 0.4272 - val_accuracy: 0.8323\n",
            "Epoch 57/100\n",
            "536/536 [==============================] - 1s 1ms/step - loss: 0.4075 - accuracy: 0.8365 - val_loss: 0.4268 - val_accuracy: 0.8326\n",
            "Epoch 58/100\n",
            "536/536 [==============================] - 1s 1ms/step - loss: 0.3952 - accuracy: 0.8434 - val_loss: 0.4262 - val_accuracy: 0.8326\n",
            "Epoch 59/100\n",
            "536/536 [==============================] - 1s 1ms/step - loss: 0.3894 - accuracy: 0.8456 - val_loss: 0.4257 - val_accuracy: 0.8334\n",
            "Epoch 60/100\n",
            "536/536 [==============================] - 1s 1ms/step - loss: 0.4011 - accuracy: 0.8341 - val_loss: 0.4257 - val_accuracy: 0.8323\n",
            "Epoch 61/100\n",
            "536/536 [==============================] - 1s 1ms/step - loss: 0.4053 - accuracy: 0.8322 - val_loss: 0.4255 - val_accuracy: 0.8326\n",
            "Epoch 62/100\n",
            "536/536 [==============================] - 1s 1ms/step - loss: 0.4030 - accuracy: 0.8418 - val_loss: 0.4249 - val_accuracy: 0.8326\n",
            "Epoch 63/100\n",
            "536/536 [==============================] - 1s 1ms/step - loss: 0.4062 - accuracy: 0.8302 - val_loss: 0.4247 - val_accuracy: 0.8323\n",
            "Epoch 64/100\n",
            "536/536 [==============================] - 1s 1ms/step - loss: 0.3908 - accuracy: 0.8421 - val_loss: 0.4240 - val_accuracy: 0.8334\n",
            "Epoch 65/100\n",
            "536/536 [==============================] - 1s 1ms/step - loss: 0.4017 - accuracy: 0.8399 - val_loss: 0.4239 - val_accuracy: 0.8334\n",
            "Epoch 66/100\n",
            "536/536 [==============================] - 1s 1ms/step - loss: 0.4236 - accuracy: 0.8283 - val_loss: 0.4240 - val_accuracy: 0.8330\n",
            "Epoch 67/100\n",
            "536/536 [==============================] - 1s 1ms/step - loss: 0.3896 - accuracy: 0.8387 - val_loss: 0.4230 - val_accuracy: 0.8342\n",
            "Epoch 68/100\n",
            "536/536 [==============================] - 1s 1ms/step - loss: 0.3905 - accuracy: 0.8395 - val_loss: 0.4223 - val_accuracy: 0.8345\n",
            "Epoch 69/100\n",
            "536/536 [==============================] - 1s 1ms/step - loss: 0.4027 - accuracy: 0.8405 - val_loss: 0.4225 - val_accuracy: 0.8334\n",
            "Epoch 70/100\n",
            "536/536 [==============================] - 1s 1ms/step - loss: 0.3987 - accuracy: 0.8433 - val_loss: 0.4218 - val_accuracy: 0.8342\n",
            "Epoch 71/100\n",
            "536/536 [==============================] - 1s 1ms/step - loss: 0.4038 - accuracy: 0.8383 - val_loss: 0.4217 - val_accuracy: 0.8334\n",
            "Epoch 72/100\n",
            "536/536 [==============================] - 1s 1ms/step - loss: 0.4037 - accuracy: 0.8335 - val_loss: 0.4214 - val_accuracy: 0.8338\n",
            "Epoch 73/100\n",
            "536/536 [==============================] - 1s 1ms/step - loss: 0.4002 - accuracy: 0.8381 - val_loss: 0.4210 - val_accuracy: 0.8334\n",
            "Epoch 74/100\n",
            "536/536 [==============================] - 1s 1ms/step - loss: 0.3966 - accuracy: 0.8417 - val_loss: 0.4206 - val_accuracy: 0.8334\n",
            "Epoch 75/100\n",
            "536/536 [==============================] - 1s 1ms/step - loss: 0.3838 - accuracy: 0.8504 - val_loss: 0.4203 - val_accuracy: 0.8342\n",
            "Epoch 76/100\n",
            "536/536 [==============================] - 1s 1ms/step - loss: 0.4061 - accuracy: 0.8350 - val_loss: 0.4205 - val_accuracy: 0.8330\n",
            "Epoch 77/100\n",
            "536/536 [==============================] - 1s 1ms/step - loss: 0.4060 - accuracy: 0.8361 - val_loss: 0.4198 - val_accuracy: 0.8338\n",
            "Epoch 78/100\n",
            "536/536 [==============================] - 1s 1ms/step - loss: 0.4004 - accuracy: 0.8397 - val_loss: 0.4196 - val_accuracy: 0.8342\n",
            "Epoch 79/100\n",
            "536/536 [==============================] - 1s 1ms/step - loss: 0.3971 - accuracy: 0.8415 - val_loss: 0.4194 - val_accuracy: 0.8342\n",
            "Epoch 80/100\n",
            "536/536 [==============================] - 1s 1ms/step - loss: 0.4093 - accuracy: 0.8349 - val_loss: 0.4195 - val_accuracy: 0.8342\n",
            "Epoch 81/100\n",
            "536/536 [==============================] - 1s 1ms/step - loss: 0.3971 - accuracy: 0.8365 - val_loss: 0.4190 - val_accuracy: 0.8353\n",
            "Epoch 82/100\n",
            "536/536 [==============================] - 1s 1ms/step - loss: 0.3914 - accuracy: 0.8401 - val_loss: 0.4185 - val_accuracy: 0.8349\n",
            "Epoch 83/100\n",
            "536/536 [==============================] - 1s 1ms/step - loss: 0.3801 - accuracy: 0.8467 - val_loss: 0.4177 - val_accuracy: 0.8330\n",
            "Epoch 84/100\n",
            "536/536 [==============================] - 1s 1ms/step - loss: 0.3840 - accuracy: 0.8463 - val_loss: 0.4174 - val_accuracy: 0.8330\n",
            "Epoch 85/100\n",
            "536/536 [==============================] - 1s 2ms/step - loss: 0.3826 - accuracy: 0.8489 - val_loss: 0.4170 - val_accuracy: 0.8330\n",
            "Epoch 86/100\n",
            "536/536 [==============================] - 1s 1ms/step - loss: 0.4048 - accuracy: 0.8306 - val_loss: 0.4170 - val_accuracy: 0.8326\n",
            "Epoch 87/100\n",
            "536/536 [==============================] - 1s 1ms/step - loss: 0.3919 - accuracy: 0.8395 - val_loss: 0.4164 - val_accuracy: 0.8326\n",
            "Epoch 88/100\n",
            "536/536 [==============================] - 1s 1ms/step - loss: 0.4000 - accuracy: 0.8396 - val_loss: 0.4161 - val_accuracy: 0.8326\n",
            "Epoch 89/100\n",
            "536/536 [==============================] - 1s 1ms/step - loss: 0.3810 - accuracy: 0.8481 - val_loss: 0.4161 - val_accuracy: 0.8323\n",
            "Epoch 90/100\n",
            "536/536 [==============================] - 1s 2ms/step - loss: 0.3844 - accuracy: 0.8469 - val_loss: 0.4152 - val_accuracy: 0.8323\n",
            "Epoch 91/100\n",
            "536/536 [==============================] - 1s 1ms/step - loss: 0.3892 - accuracy: 0.8442 - val_loss: 0.4150 - val_accuracy: 0.8326\n",
            "Epoch 92/100\n",
            "536/536 [==============================] - 1s 1ms/step - loss: 0.3794 - accuracy: 0.8495 - val_loss: 0.4144 - val_accuracy: 0.8330\n",
            "Epoch 93/100\n",
            "536/536 [==============================] - 1s 1ms/step - loss: 0.3959 - accuracy: 0.8321 - val_loss: 0.4144 - val_accuracy: 0.8326\n",
            "Epoch 94/100\n",
            "536/536 [==============================] - 1s 1ms/step - loss: 0.3800 - accuracy: 0.8508 - val_loss: 0.4134 - val_accuracy: 0.8330\n",
            "Epoch 95/100\n",
            "536/536 [==============================] - 1s 1ms/step - loss: 0.4067 - accuracy: 0.8294 - val_loss: 0.4140 - val_accuracy: 0.8326\n",
            "Epoch 96/100\n",
            "536/536 [==============================] - 1s 1ms/step - loss: 0.3871 - accuracy: 0.8477 - val_loss: 0.4128 - val_accuracy: 0.8334\n",
            "Epoch 97/100\n",
            "536/536 [==============================] - 1s 1ms/step - loss: 0.3800 - accuracy: 0.8496 - val_loss: 0.4124 - val_accuracy: 0.8334\n",
            "Epoch 98/100\n",
            "536/536 [==============================] - 1s 1ms/step - loss: 0.3891 - accuracy: 0.8418 - val_loss: 0.4119 - val_accuracy: 0.8345\n",
            "Epoch 99/100\n",
            "536/536 [==============================] - 1s 1ms/step - loss: 0.3933 - accuracy: 0.8407 - val_loss: 0.4112 - val_accuracy: 0.8345\n",
            "Epoch 100/100\n",
            "536/536 [==============================] - 1s 1ms/step - loss: 0.3866 - accuracy: 0.8425 - val_loss: 0.4100 - val_accuracy: 0.8342\n"
          ],
          "name": "stdout"
        }
      ]
    },
    {
      "cell_type": "code",
      "metadata": {
        "colab": {
          "base_uri": "https://localhost:8080/"
        },
        "id": "zvfBSa-zIoHa",
        "outputId": "fc5e74e1-405a-47ff-9117-318951ef6d7d"
      },
      "source": [
        "print(model_history.history.keys())"
      ],
      "execution_count": 17,
      "outputs": [
        {
          "output_type": "stream",
          "text": [
            "dict_keys(['loss', 'accuracy', 'val_loss', 'val_accuracy'])\n"
          ],
          "name": "stdout"
        }
      ]
    },
    {
      "cell_type": "code",
      "metadata": {
        "colab": {
          "base_uri": "https://localhost:8080/",
          "height": 294
        },
        "id": "l9qbczI0JEQC",
        "outputId": "07e2ead3-268f-4366-8e7c-7270c1d66d2b"
      },
      "source": [
        "plt.plot(model_history.history['accuracy'])\r\n",
        "plt.plot(model_history.history['val_accuracy'])\r\n",
        "plt.title('Model_accuracy')\r\n",
        "plt.ylabel('accuracy')\r\n",
        "plt.xlabel('epoch')\r\n",
        "plt.legend(['train','test'], loc='upper left')\r\n",
        "plt.show()"
      ],
      "execution_count": 18,
      "outputs": [
        {
          "output_type": "display_data",
          "data": {
            "image/png": "[encoded data removed]",
            "text/plain": [
              "<Figure size 432x288 with 1 Axes>"
            ]
          },
          "metadata": {
            "tags": [],
            "needs_background": "light"
          }
        }
      ]
    },
    {
      "cell_type": "code",
      "metadata": {
        "id": "M4hGfPpXJ8_r"
      },
      "source": [
        "y_pred = classifier.predict(X_test)\r\n",
        "y_pred = (y_pred >0.5)"
      ],
      "execution_count": 19,
      "outputs": []
    },
    {
      "cell_type": "code",
      "metadata": {
        "colab": {
          "base_uri": "https://localhost:8080/"
        },
        "id": "KSg7uC-MKsX7",
        "outputId": "b5f37660-9a2d-4367-998f-f661c0493e36"
      },
      "source": [
        "y_pred"
      ],
      "execution_count": 20,
      "outputs": [
        {
          "output_type": "execute_result",
          "data": {
            "text/plain": [
              "array([[False],\n",
              "       [False],\n",
              "       [False],\n",
              "       ...,\n",
              "       [ True],\n",
              "       [False],\n",
              "       [False]])"
            ]
          },
          "metadata": {
            "tags": []
          },
          "execution_count": 20
        }
      ]
    },
    {
      "cell_type": "code",
      "metadata": {
        "id": "CVxfqePgKJww"
      },
      "source": [
        "from sklearn.metrics import confusion_matrix\r\n",
        "cm = confusion_matrix(y_test, y_pred)"
      ],
      "execution_count": 21,
      "outputs": []
    },
    {
      "cell_type": "code",
      "metadata": {
        "colab": {
          "base_uri": "https://localhost:8080/"
        },
        "id": "AhEVznbQK1Zl",
        "outputId": "ad38878f-0872-4935-ac9d-eafea9ed5031"
      },
      "source": [
        "cm"
      ],
      "execution_count": 22,
      "outputs": [
        {
          "output_type": "execute_result",
          "data": {
            "text/plain": [
              "array([[1553,   54],\n",
              "       [ 259,  134]])"
            ]
          },
          "metadata": {
            "tags": []
          },
          "execution_count": 22
        }
      ]
    },
    {
      "cell_type": "code",
      "metadata": {
        "id": "eZ3hDjx0KQRM"
      },
      "source": [
        "from sklearn.metrics import accuracy_score\r\n",
        "score = accuracy_score(y_pred, y_test)"
      ],
      "execution_count": 23,
      "outputs": []
    },
    {
      "cell_type": "code",
      "metadata": {
        "colab": {
          "base_uri": "https://localhost:8080/"
        },
        "id": "Msx6TBdKK4Av",
        "outputId": "6e7c3538-0d09-4f87-c1e0-7c0d66f1e0e3"
      },
      "source": [
        "score"
      ],
      "execution_count": 24,
      "outputs": [
        {
          "output_type": "execute_result",
          "data": {
            "text/plain": [
              "0.8435"
            ]
          },
          "metadata": {
            "tags": []
          },
          "execution_count": 24
        }
      ]
    },
    {
      "cell_type": "code",
      "metadata": {
        "colab": {
          "base_uri": "https://localhost:8080/"
        },
        "id": "Ko906_AqPCl0",
        "outputId": "9bb83cac-441a-49cf-aa22-e0a75d810fb7"
      },
      "source": [
        "classifier = Sequential()\r\n",
        "classifier.add(Dense(units=10, kernel_initializer='he_normal', activation='relu', input_dim=11))\r\n",
        "classifier.add(Dense(units=20, kernel_initializer='he_normal', activation='relu'))\r\n",
        "classifier.add(Dense(units=10, kernel_initializer='he_normal', activation='relu'))\r\n",
        "classifier.add(Dense(units=1, kernel_initializer='glorot_uniform', activation = 'sigmoid'))\r\n",
        "classifier.summary()"
      ],
      "execution_count": 25,
      "outputs": [
        {
          "output_type": "stream",
          "text": [
            "Model: \"sequential_1\"\n",
            "_________________________________________________________________\n",
            "Layer (type)                 Output Shape              Param #   \n",
            "=================================================================\n",
            "dense_3 (Dense)              (None, 10)                120       \n",
            "_________________________________________________________________\n",
            "dense_4 (Dense)              (None, 20)                220       \n",
            "_________________________________________________________________\n",
            "dense_5 (Dense)              (None, 10)                210       \n",
            "_________________________________________________________________\n",
            "dense_6 (Dense)              (None, 1)                 11        \n",
            "=================================================================\n",
            "Total params: 561\n",
            "Trainable params: 561\n",
            "Non-trainable params: 0\n",
            "_________________________________________________________________\n"
          ],
          "name": "stdout"
        }
      ]
    },
    {
      "cell_type": "code",
      "metadata": {
        "colab": {
          "base_uri": "https://localhost:8080/"
        },
        "id": "klTjTSsCPQe1",
        "outputId": "81444d2d-4bdd-4389-d779-ca3017609e39"
      },
      "source": [
        "classifier.compile(optimizer = 'Adamax', loss='binary_crossentropy', metrics=['accuracy'])\r\n",
        "model_history=classifier.fit(X_train, y_train, validation_split=0.33, batch_size=10, epochs=100)"
      ],
      "execution_count": 26,
      "outputs": [
        {
          "output_type": "stream",
          "text": [
            "Epoch 1/100\n",
            "536/536 [==============================] - 1s 2ms/step - loss: 0.6966 - accuracy: 0.6012 - val_loss: 0.5240 - val_accuracy: 0.7952\n",
            "Epoch 2/100\n",
            "536/536 [==============================] - 1s 1ms/step - loss: 0.5166 - accuracy: 0.7998 - val_loss: 0.4849 - val_accuracy: 0.8042\n",
            "Epoch 3/100\n",
            "536/536 [==============================] - 1s 1ms/step - loss: 0.4740 - accuracy: 0.8120 - val_loss: 0.4668 - val_accuracy: 0.8092\n",
            "Epoch 4/100\n",
            "536/536 [==============================] - 1s 1ms/step - loss: 0.4603 - accuracy: 0.8162 - val_loss: 0.4534 - val_accuracy: 0.8122\n",
            "Epoch 5/100\n",
            "536/536 [==============================] - 1s 1ms/step - loss: 0.4420 - accuracy: 0.8160 - val_loss: 0.4432 - val_accuracy: 0.8122\n",
            "Epoch 6/100\n",
            "536/536 [==============================] - 1s 2ms/step - loss: 0.4184 - accuracy: 0.8313 - val_loss: 0.4336 - val_accuracy: 0.8164\n",
            "Epoch 7/100\n",
            "536/536 [==============================] - 1s 2ms/step - loss: 0.4153 - accuracy: 0.8232 - val_loss: 0.4254 - val_accuracy: 0.8164\n",
            "Epoch 8/100\n",
            "536/536 [==============================] - 1s 1ms/step - loss: 0.4026 - accuracy: 0.8246 - val_loss: 0.4190 - val_accuracy: 0.8175\n",
            "Epoch 9/100\n",
            "536/536 [==============================] - 1s 1ms/step - loss: 0.4027 - accuracy: 0.8258 - val_loss: 0.4137 - val_accuracy: 0.8205\n",
            "Epoch 10/100\n",
            "536/536 [==============================] - 1s 1ms/step - loss: 0.4086 - accuracy: 0.8269 - val_loss: 0.4092 - val_accuracy: 0.8228\n",
            "Epoch 11/100\n",
            "536/536 [==============================] - 1s 2ms/step - loss: 0.3783 - accuracy: 0.8456 - val_loss: 0.4051 - val_accuracy: 0.8258\n",
            "Epoch 12/100\n",
            "536/536 [==============================] - 1s 2ms/step - loss: 0.3831 - accuracy: 0.8386 - val_loss: 0.4017 - val_accuracy: 0.8300\n",
            "Epoch 13/100\n",
            "536/536 [==============================] - 1s 1ms/step - loss: 0.3792 - accuracy: 0.8447 - val_loss: 0.3985 - val_accuracy: 0.8326\n",
            "Epoch 14/100\n",
            "536/536 [==============================] - 1s 2ms/step - loss: 0.3775 - accuracy: 0.8462 - val_loss: 0.3954 - val_accuracy: 0.8338\n",
            "Epoch 15/100\n",
            "536/536 [==============================] - 1s 1ms/step - loss: 0.3651 - accuracy: 0.8556 - val_loss: 0.3918 - val_accuracy: 0.8364\n",
            "Epoch 16/100\n",
            "536/536 [==============================] - 1s 1ms/step - loss: 0.3569 - accuracy: 0.8561 - val_loss: 0.3885 - val_accuracy: 0.8326\n",
            "Epoch 17/100\n",
            "536/536 [==============================] - 1s 2ms/step - loss: 0.3542 - accuracy: 0.8538 - val_loss: 0.3870 - val_accuracy: 0.8357\n",
            "Epoch 18/100\n",
            "536/536 [==============================] - 1s 1ms/step - loss: 0.3542 - accuracy: 0.8586 - val_loss: 0.3843 - val_accuracy: 0.8364\n",
            "Epoch 19/100\n",
            "536/536 [==============================] - 1s 2ms/step - loss: 0.3650 - accuracy: 0.8491 - val_loss: 0.3835 - val_accuracy: 0.8395\n",
            "Epoch 20/100\n",
            "536/536 [==============================] - 1s 2ms/step - loss: 0.3526 - accuracy: 0.8566 - val_loss: 0.3813 - val_accuracy: 0.8413\n",
            "Epoch 21/100\n",
            "536/536 [==============================] - 1s 1ms/step - loss: 0.3495 - accuracy: 0.8582 - val_loss: 0.3802 - val_accuracy: 0.8406\n",
            "Epoch 22/100\n",
            "536/536 [==============================] - 1s 2ms/step - loss: 0.3480 - accuracy: 0.8587 - val_loss: 0.3784 - val_accuracy: 0.8398\n",
            "Epoch 23/100\n",
            "536/536 [==============================] - 1s 1ms/step - loss: 0.3424 - accuracy: 0.8593 - val_loss: 0.3769 - val_accuracy: 0.8376\n",
            "Epoch 24/100\n",
            "536/536 [==============================] - 1s 2ms/step - loss: 0.3315 - accuracy: 0.8680 - val_loss: 0.3759 - val_accuracy: 0.8413\n",
            "Epoch 25/100\n",
            "536/536 [==============================] - 1s 1ms/step - loss: 0.3495 - accuracy: 0.8489 - val_loss: 0.3758 - val_accuracy: 0.8406\n",
            "Epoch 26/100\n",
            "536/536 [==============================] - 1s 1ms/step - loss: 0.3406 - accuracy: 0.8633 - val_loss: 0.3748 - val_accuracy: 0.8417\n",
            "Epoch 27/100\n",
            "536/536 [==============================] - 1s 2ms/step - loss: 0.3418 - accuracy: 0.8650 - val_loss: 0.3732 - val_accuracy: 0.8413\n",
            "Epoch 28/100\n",
            "536/536 [==============================] - 1s 2ms/step - loss: 0.3351 - accuracy: 0.8637 - val_loss: 0.3731 - val_accuracy: 0.8429\n",
            "Epoch 29/100\n",
            "536/536 [==============================] - 1s 1ms/step - loss: 0.3453 - accuracy: 0.8627 - val_loss: 0.3725 - val_accuracy: 0.8421\n",
            "Epoch 30/100\n",
            "536/536 [==============================] - 1s 2ms/step - loss: 0.3413 - accuracy: 0.8574 - val_loss: 0.3715 - val_accuracy: 0.8417\n",
            "Epoch 31/100\n",
            "536/536 [==============================] - 1s 2ms/step - loss: 0.3238 - accuracy: 0.8691 - val_loss: 0.3711 - val_accuracy: 0.8432\n",
            "Epoch 32/100\n",
            "536/536 [==============================] - 1s 1ms/step - loss: 0.3343 - accuracy: 0.8532 - val_loss: 0.3707 - val_accuracy: 0.8413\n",
            "Epoch 33/100\n",
            "536/536 [==============================] - 1s 2ms/step - loss: 0.3336 - accuracy: 0.8654 - val_loss: 0.3702 - val_accuracy: 0.8455\n",
            "Epoch 34/100\n",
            "536/536 [==============================] - 1s 1ms/step - loss: 0.3348 - accuracy: 0.8624 - val_loss: 0.3700 - val_accuracy: 0.8451\n",
            "Epoch 35/100\n",
            "536/536 [==============================] - 1s 1ms/step - loss: 0.3317 - accuracy: 0.8633 - val_loss: 0.3697 - val_accuracy: 0.8466\n",
            "Epoch 36/100\n",
            "536/536 [==============================] - 1s 2ms/step - loss: 0.3215 - accuracy: 0.8695 - val_loss: 0.3684 - val_accuracy: 0.8432\n",
            "Epoch 37/100\n",
            "536/536 [==============================] - 1s 1ms/step - loss: 0.3218 - accuracy: 0.8659 - val_loss: 0.3688 - val_accuracy: 0.8463\n",
            "Epoch 38/100\n",
            "536/536 [==============================] - 1s 1ms/step - loss: 0.3379 - accuracy: 0.8584 - val_loss: 0.3677 - val_accuracy: 0.8440\n",
            "Epoch 39/100\n",
            "536/536 [==============================] - 1s 1ms/step - loss: 0.3345 - accuracy: 0.8629 - val_loss: 0.3676 - val_accuracy: 0.8436\n",
            "Epoch 40/100\n",
            "536/536 [==============================] - 1s 1ms/step - loss: 0.3226 - accuracy: 0.8699 - val_loss: 0.3696 - val_accuracy: 0.8448\n",
            "Epoch 41/100\n",
            "536/536 [==============================] - 1s 2ms/step - loss: 0.3317 - accuracy: 0.8634 - val_loss: 0.3668 - val_accuracy: 0.8425\n",
            "Epoch 42/100\n",
            "536/536 [==============================] - 1s 2ms/step - loss: 0.3327 - accuracy: 0.8610 - val_loss: 0.3665 - val_accuracy: 0.8451\n",
            "Epoch 43/100\n",
            "536/536 [==============================] - 1s 1ms/step - loss: 0.3250 - accuracy: 0.8699 - val_loss: 0.3688 - val_accuracy: 0.8432\n",
            "Epoch 44/100\n",
            "536/536 [==============================] - 1s 1ms/step - loss: 0.3236 - accuracy: 0.8702 - val_loss: 0.3663 - val_accuracy: 0.8448\n",
            "Epoch 45/100\n",
            "536/536 [==============================] - 1s 2ms/step - loss: 0.3238 - accuracy: 0.8671 - val_loss: 0.3663 - val_accuracy: 0.8436\n",
            "Epoch 46/100\n",
            "536/536 [==============================] - 1s 2ms/step - loss: 0.3268 - accuracy: 0.8735 - val_loss: 0.3669 - val_accuracy: 0.8451\n",
            "Epoch 47/100\n",
            "536/536 [==============================] - 1s 1ms/step - loss: 0.3147 - accuracy: 0.8706 - val_loss: 0.3667 - val_accuracy: 0.8448\n",
            "Epoch 48/100\n",
            "536/536 [==============================] - 1s 2ms/step - loss: 0.3454 - accuracy: 0.8564 - val_loss: 0.3660 - val_accuracy: 0.8436\n",
            "Epoch 49/100\n",
            "536/536 [==============================] - 1s 2ms/step - loss: 0.3279 - accuracy: 0.8720 - val_loss: 0.3659 - val_accuracy: 0.8444\n",
            "Epoch 50/100\n",
            "536/536 [==============================] - 1s 2ms/step - loss: 0.3302 - accuracy: 0.8657 - val_loss: 0.3666 - val_accuracy: 0.8451\n",
            "Epoch 51/100\n",
            "536/536 [==============================] - 1s 2ms/step - loss: 0.3176 - accuracy: 0.8772 - val_loss: 0.3673 - val_accuracy: 0.8429\n",
            "Epoch 52/100\n",
            "536/536 [==============================] - 1s 1ms/step - loss: 0.3331 - accuracy: 0.8671 - val_loss: 0.3650 - val_accuracy: 0.8444\n",
            "Epoch 53/100\n",
            "536/536 [==============================] - 1s 2ms/step - loss: 0.3358 - accuracy: 0.8693 - val_loss: 0.3646 - val_accuracy: 0.8459\n",
            "Epoch 54/100\n",
            "536/536 [==============================] - 1s 1ms/step - loss: 0.3267 - accuracy: 0.8677 - val_loss: 0.3667 - val_accuracy: 0.8432\n",
            "Epoch 55/100\n",
            "536/536 [==============================] - 1s 2ms/step - loss: 0.3145 - accuracy: 0.8751 - val_loss: 0.3661 - val_accuracy: 0.8455\n",
            "Epoch 56/100\n",
            "536/536 [==============================] - 1s 2ms/step - loss: 0.3249 - accuracy: 0.8693 - val_loss: 0.3644 - val_accuracy: 0.8455\n",
            "Epoch 57/100\n",
            "536/536 [==============================] - 1s 2ms/step - loss: 0.3206 - accuracy: 0.8718 - val_loss: 0.3646 - val_accuracy: 0.8432\n",
            "Epoch 58/100\n",
            "536/536 [==============================] - 1s 2ms/step - loss: 0.3233 - accuracy: 0.8729 - val_loss: 0.3638 - val_accuracy: 0.8448\n",
            "Epoch 59/100\n",
            "536/536 [==============================] - 1s 2ms/step - loss: 0.3175 - accuracy: 0.8702 - val_loss: 0.3648 - val_accuracy: 0.8440\n",
            "Epoch 60/100\n",
            "536/536 [==============================] - 1s 2ms/step - loss: 0.3265 - accuracy: 0.8666 - val_loss: 0.3649 - val_accuracy: 0.8429\n",
            "Epoch 61/100\n",
            "536/536 [==============================] - 1s 1ms/step - loss: 0.3319 - accuracy: 0.8659 - val_loss: 0.3651 - val_accuracy: 0.8448\n",
            "Epoch 62/100\n",
            "536/536 [==============================] - 1s 2ms/step - loss: 0.3146 - accuracy: 0.8737 - val_loss: 0.3665 - val_accuracy: 0.8455\n",
            "Epoch 63/100\n",
            "536/536 [==============================] - 1s 2ms/step - loss: 0.3231 - accuracy: 0.8679 - val_loss: 0.3638 - val_accuracy: 0.8448\n",
            "Epoch 64/100\n",
            "536/536 [==============================] - 1s 2ms/step - loss: 0.3116 - accuracy: 0.8716 - val_loss: 0.3644 - val_accuracy: 0.8429\n",
            "Epoch 65/100\n",
            "536/536 [==============================] - 1s 2ms/step - loss: 0.3327 - accuracy: 0.8658 - val_loss: 0.3638 - val_accuracy: 0.8436\n",
            "Epoch 66/100\n",
            "536/536 [==============================] - 1s 1ms/step - loss: 0.3250 - accuracy: 0.8728 - val_loss: 0.3645 - val_accuracy: 0.8455\n",
            "Epoch 67/100\n",
            "536/536 [==============================] - 1s 2ms/step - loss: 0.3215 - accuracy: 0.8664 - val_loss: 0.3656 - val_accuracy: 0.8440\n",
            "Epoch 68/100\n",
            "536/536 [==============================] - 1s 2ms/step - loss: 0.3072 - accuracy: 0.8762 - val_loss: 0.3641 - val_accuracy: 0.8448\n",
            "Epoch 69/100\n",
            "536/536 [==============================] - 1s 2ms/step - loss: 0.3356 - accuracy: 0.8678 - val_loss: 0.3641 - val_accuracy: 0.8463\n",
            "Epoch 70/100\n",
            "536/536 [==============================] - 1s 2ms/step - loss: 0.3095 - accuracy: 0.8795 - val_loss: 0.3642 - val_accuracy: 0.8432\n",
            "Epoch 71/100\n",
            "536/536 [==============================] - 1s 2ms/step - loss: 0.3237 - accuracy: 0.8675 - val_loss: 0.3649 - val_accuracy: 0.8429\n",
            "Epoch 72/100\n",
            "536/536 [==============================] - 1s 2ms/step - loss: 0.3261 - accuracy: 0.8671 - val_loss: 0.3641 - val_accuracy: 0.8436\n",
            "Epoch 73/100\n",
            "536/536 [==============================] - 1s 2ms/step - loss: 0.3153 - accuracy: 0.8733 - val_loss: 0.3641 - val_accuracy: 0.8455\n",
            "Epoch 74/100\n",
            "536/536 [==============================] - 1s 1ms/step - loss: 0.3291 - accuracy: 0.8666 - val_loss: 0.3645 - val_accuracy: 0.8444\n",
            "Epoch 75/100\n",
            "536/536 [==============================] - 1s 2ms/step - loss: 0.3096 - accuracy: 0.8750 - val_loss: 0.3661 - val_accuracy: 0.8425\n",
            "Epoch 76/100\n",
            "536/536 [==============================] - 1s 2ms/step - loss: 0.3245 - accuracy: 0.8688 - val_loss: 0.3646 - val_accuracy: 0.8463\n",
            "Epoch 77/100\n",
            "536/536 [==============================] - 1s 2ms/step - loss: 0.3246 - accuracy: 0.8674 - val_loss: 0.3653 - val_accuracy: 0.8421\n",
            "Epoch 78/100\n",
            "536/536 [==============================] - 1s 2ms/step - loss: 0.3174 - accuracy: 0.8755 - val_loss: 0.3651 - val_accuracy: 0.8444\n",
            "Epoch 79/100\n",
            "536/536 [==============================] - 1s 2ms/step - loss: 0.3002 - accuracy: 0.8786 - val_loss: 0.3647 - val_accuracy: 0.8429\n",
            "Epoch 80/100\n",
            "536/536 [==============================] - 1s 2ms/step - loss: 0.3052 - accuracy: 0.8777 - val_loss: 0.3637 - val_accuracy: 0.8448\n",
            "Epoch 81/100\n",
            "536/536 [==============================] - 1s 2ms/step - loss: 0.3135 - accuracy: 0.8774 - val_loss: 0.3650 - val_accuracy: 0.8429\n",
            "Epoch 82/100\n",
            "536/536 [==============================] - 1s 2ms/step - loss: 0.3220 - accuracy: 0.8702 - val_loss: 0.3652 - val_accuracy: 0.8432\n",
            "Epoch 83/100\n",
            "536/536 [==============================] - 1s 2ms/step - loss: 0.3096 - accuracy: 0.8757 - val_loss: 0.3650 - val_accuracy: 0.8421\n",
            "Epoch 84/100\n",
            "536/536 [==============================] - 1s 2ms/step - loss: 0.3148 - accuracy: 0.8723 - val_loss: 0.3637 - val_accuracy: 0.8432\n",
            "Epoch 85/100\n",
            "536/536 [==============================] - 1s 2ms/step - loss: 0.3107 - accuracy: 0.8703 - val_loss: 0.3639 - val_accuracy: 0.8429\n",
            "Epoch 86/100\n",
            "536/536 [==============================] - 1s 1ms/step - loss: 0.3255 - accuracy: 0.8684 - val_loss: 0.3641 - val_accuracy: 0.8444\n",
            "Epoch 87/100\n",
            "536/536 [==============================] - 1s 2ms/step - loss: 0.3130 - accuracy: 0.8752 - val_loss: 0.3641 - val_accuracy: 0.8432\n",
            "Epoch 88/100\n",
            "536/536 [==============================] - 1s 2ms/step - loss: 0.3112 - accuracy: 0.8735 - val_loss: 0.3650 - val_accuracy: 0.8410\n",
            "Epoch 89/100\n",
            "536/536 [==============================] - 1s 2ms/step - loss: 0.3323 - accuracy: 0.8617 - val_loss: 0.3646 - val_accuracy: 0.8432\n",
            "Epoch 90/100\n",
            "536/536 [==============================] - 1s 2ms/step - loss: 0.3039 - accuracy: 0.8740 - val_loss: 0.3648 - val_accuracy: 0.8421\n",
            "Epoch 91/100\n",
            "536/536 [==============================] - 1s 2ms/step - loss: 0.3297 - accuracy: 0.8713 - val_loss: 0.3634 - val_accuracy: 0.8459\n",
            "Epoch 92/100\n",
            "536/536 [==============================] - 1s 2ms/step - loss: 0.3217 - accuracy: 0.8612 - val_loss: 0.3644 - val_accuracy: 0.8432\n",
            "Epoch 93/100\n",
            "536/536 [==============================] - 1s 2ms/step - loss: 0.3144 - accuracy: 0.8699 - val_loss: 0.3635 - val_accuracy: 0.8448\n",
            "Epoch 94/100\n",
            "536/536 [==============================] - 1s 1ms/step - loss: 0.3107 - accuracy: 0.8749 - val_loss: 0.3638 - val_accuracy: 0.8440\n",
            "Epoch 95/100\n",
            "536/536 [==============================] - 1s 2ms/step - loss: 0.3122 - accuracy: 0.8767 - val_loss: 0.3639 - val_accuracy: 0.8425\n",
            "Epoch 96/100\n",
            "536/536 [==============================] - 1s 2ms/step - loss: 0.3235 - accuracy: 0.8619 - val_loss: 0.3642 - val_accuracy: 0.8425\n",
            "Epoch 97/100\n",
            "536/536 [==============================] - 1s 2ms/step - loss: 0.3218 - accuracy: 0.8639 - val_loss: 0.3652 - val_accuracy: 0.8455\n",
            "Epoch 98/100\n",
            "536/536 [==============================] - 1s 2ms/step - loss: 0.3149 - accuracy: 0.8753 - val_loss: 0.3633 - val_accuracy: 0.8432\n",
            "Epoch 99/100\n",
            "536/536 [==============================] - 1s 2ms/step - loss: 0.3123 - accuracy: 0.8691 - val_loss: 0.3640 - val_accuracy: 0.8421\n",
            "Epoch 100/100\n",
            "536/536 [==============================] - 1s 2ms/step - loss: 0.3103 - accuracy: 0.8740 - val_loss: 0.3643 - val_accuracy: 0.8413\n"
          ],
          "name": "stdout"
        }
      ]
    },
    {
      "cell_type": "code",
      "metadata": {
        "colab": {
          "base_uri": "https://localhost:8080/"
        },
        "id": "akASG59fPVvA",
        "outputId": "1a746624-0e8c-4894-b4de-abbb127d0f81"
      },
      "source": [
        "y_pred = classifier.predict(X_test)\r\n",
        "y_pred = (y_pred >0.5)\r\n",
        "\r\n",
        "cm = confusion_matrix(y_test, y_pred)\r\n",
        "\r\n",
        "score = accuracy_score(y_pred, y_test)\r\n",
        "print(cm)\r\n",
        "print(score)"
      ],
      "execution_count": 27,
      "outputs": [
        {
          "output_type": "stream",
          "text": [
            "[[1519   88]\n",
            " [ 197  196]]\n",
            "0.8575\n"
          ],
          "name": "stdout"
        }
      ]
    },
    {
      "cell_type": "code",
      "metadata": {
        "colab": {
          "base_uri": "https://localhost:8080/"
        },
        "id": "Rx0XlfbpP7B5",
        "outputId": "df9114a7-85a2-4161-d8da-05bc83cf4e29"
      },
      "source": [
        "classifier = Sequential()\r\n",
        "classifier.add(Dense(units=10, kernel_initializer='he_normal', activation='relu', input_dim=11))\r\n",
        "classifier.add(Dropout(0.3))\r\n",
        "classifier.add(Dense(units=20, kernel_initializer='he_normal', activation='relu'))\r\n",
        "classifier.add(Dropout(0.4))\r\n",
        "classifier.add(Dense(units=10, kernel_initializer='he_normal', activation='relu'))\r\n",
        "classifier.add(Dropout(0.2))\r\n",
        "classifier.add(Dense(units=1, kernel_initializer='glorot_uniform', activation = 'sigmoid'))\r\n",
        "classifier.summary()"
      ],
      "execution_count": 28,
      "outputs": [
        {
          "output_type": "stream",
          "text": [
            "Model: \"sequential_2\"\n",
            "_________________________________________________________________\n",
            "Layer (type)                 Output Shape              Param #   \n",
            "=================================================================\n",
            "dense_7 (Dense)              (None, 10)                120       \n",
            "_________________________________________________________________\n",
            "dropout (Dropout)            (None, 10)                0         \n",
            "_________________________________________________________________\n",
            "dense_8 (Dense)              (None, 20)                220       \n",
            "_________________________________________________________________\n",
            "dropout_1 (Dropout)          (None, 20)                0         \n",
            "_________________________________________________________________\n",
            "dense_9 (Dense)              (None, 10)                210       \n",
            "_________________________________________________________________\n",
            "dropout_2 (Dropout)          (None, 10)                0         \n",
            "_________________________________________________________________\n",
            "dense_10 (Dense)             (None, 1)                 11        \n",
            "=================================================================\n",
            "Total params: 561\n",
            "Trainable params: 561\n",
            "Non-trainable params: 0\n",
            "_________________________________________________________________\n"
          ],
          "name": "stdout"
        }
      ]
    },
    {
      "cell_type": "code",
      "metadata": {
        "colab": {
          "base_uri": "https://localhost:8080/"
        },
        "id": "qi2y0wZbQMwT",
        "outputId": "f3307815-36ea-46e0-b32f-b11a9dcc451e"
      },
      "source": [
        "classifier.compile(optimizer = 'Adamax', loss='binary_crossentropy', metrics=['accuracy'])\r\n",
        "model_history=classifier.fit(X_train, y_train, validation_split=0.33, batch_size=10, epochs=100)"
      ],
      "execution_count": 29,
      "outputs": [
        {
          "output_type": "stream",
          "text": [
            "Epoch 1/100\n",
            "536/536 [==============================] - 1s 2ms/step - loss: 0.7400 - accuracy: 0.7225 - val_loss: 0.5941 - val_accuracy: 0.7910\n",
            "Epoch 2/100\n",
            "536/536 [==============================] - 1s 2ms/step - loss: 0.6585 - accuracy: 0.7706 - val_loss: 0.5647 - val_accuracy: 0.7910\n",
            "Epoch 3/100\n",
            "536/536 [==============================] - 1s 2ms/step - loss: 0.6009 - accuracy: 0.7829 - val_loss: 0.5456 - val_accuracy: 0.7910\n",
            "Epoch 4/100\n",
            "536/536 [==============================] - 1s 2ms/step - loss: 0.5573 - accuracy: 0.7906 - val_loss: 0.5316 - val_accuracy: 0.7910\n",
            "Epoch 5/100\n",
            "536/536 [==============================] - 1s 2ms/step - loss: 0.5393 - accuracy: 0.7927 - val_loss: 0.5195 - val_accuracy: 0.7910\n",
            "Epoch 6/100\n",
            "536/536 [==============================] - 1s 2ms/step - loss: 0.5283 - accuracy: 0.7887 - val_loss: 0.5124 - val_accuracy: 0.7910\n",
            "Epoch 7/100\n",
            "536/536 [==============================] - 1s 2ms/step - loss: 0.5092 - accuracy: 0.8020 - val_loss: 0.5067 - val_accuracy: 0.7910\n",
            "Epoch 8/100\n",
            "536/536 [==============================] - 1s 2ms/step - loss: 0.5128 - accuracy: 0.7940 - val_loss: 0.5013 - val_accuracy: 0.7910\n",
            "Epoch 9/100\n",
            "536/536 [==============================] - 1s 1ms/step - loss: 0.5070 - accuracy: 0.7948 - val_loss: 0.4979 - val_accuracy: 0.7910\n",
            "Epoch 10/100\n",
            "536/536 [==============================] - 1s 2ms/step - loss: 0.5149 - accuracy: 0.7878 - val_loss: 0.4957 - val_accuracy: 0.7910\n",
            "Epoch 11/100\n",
            "536/536 [==============================] - 1s 2ms/step - loss: 0.5089 - accuracy: 0.7933 - val_loss: 0.4933 - val_accuracy: 0.7910\n",
            "Epoch 12/100\n",
            "536/536 [==============================] - 1s 2ms/step - loss: 0.4974 - accuracy: 0.7962 - val_loss: 0.4896 - val_accuracy: 0.7910\n",
            "Epoch 13/100\n",
            "536/536 [==============================] - 1s 1ms/step - loss: 0.4966 - accuracy: 0.7947 - val_loss: 0.4877 - val_accuracy: 0.7910\n",
            "Epoch 14/100\n",
            "536/536 [==============================] - 1s 2ms/step - loss: 0.4933 - accuracy: 0.7939 - val_loss: 0.4857 - val_accuracy: 0.7910\n",
            "Epoch 15/100\n",
            "536/536 [==============================] - 1s 2ms/step - loss: 0.4863 - accuracy: 0.7948 - val_loss: 0.4846 - val_accuracy: 0.7910\n",
            "Epoch 16/100\n",
            "536/536 [==============================] - 1s 2ms/step - loss: 0.4867 - accuracy: 0.7998 - val_loss: 0.4833 - val_accuracy: 0.7910\n",
            "Epoch 17/100\n",
            "536/536 [==============================] - 1s 2ms/step - loss: 0.4923 - accuracy: 0.7888 - val_loss: 0.4806 - val_accuracy: 0.7910\n",
            "Epoch 18/100\n",
            "536/536 [==============================] - 1s 1ms/step - loss: 0.4769 - accuracy: 0.7994 - val_loss: 0.4782 - val_accuracy: 0.7910\n",
            "Epoch 19/100\n",
            "536/536 [==============================] - 1s 2ms/step - loss: 0.4819 - accuracy: 0.7983 - val_loss: 0.4755 - val_accuracy: 0.7910\n",
            "Epoch 20/100\n",
            "536/536 [==============================] - 1s 2ms/step - loss: 0.4698 - accuracy: 0.8032 - val_loss: 0.4754 - val_accuracy: 0.7910\n",
            "Epoch 21/100\n",
            "536/536 [==============================] - 1s 2ms/step - loss: 0.4737 - accuracy: 0.7980 - val_loss: 0.4733 - val_accuracy: 0.7910\n",
            "Epoch 22/100\n",
            "536/536 [==============================] - 1s 2ms/step - loss: 0.4680 - accuracy: 0.7990 - val_loss: 0.4719 - val_accuracy: 0.7910\n",
            "Epoch 23/100\n",
            "536/536 [==============================] - 1s 2ms/step - loss: 0.4754 - accuracy: 0.7916 - val_loss: 0.4677 - val_accuracy: 0.7910\n",
            "Epoch 24/100\n",
            "536/536 [==============================] - 1s 2ms/step - loss: 0.4673 - accuracy: 0.8027 - val_loss: 0.4670 - val_accuracy: 0.7910\n",
            "Epoch 25/100\n",
            "536/536 [==============================] - 1s 2ms/step - loss: 0.4733 - accuracy: 0.7939 - val_loss: 0.4661 - val_accuracy: 0.7910\n",
            "Epoch 26/100\n",
            "536/536 [==============================] - 1s 2ms/step - loss: 0.4750 - accuracy: 0.7921 - val_loss: 0.4654 - val_accuracy: 0.7910\n",
            "Epoch 27/100\n",
            "536/536 [==============================] - 1s 2ms/step - loss: 0.4743 - accuracy: 0.7885 - val_loss: 0.4643 - val_accuracy: 0.7910\n",
            "Epoch 28/100\n",
            "536/536 [==============================] - 1s 2ms/step - loss: 0.4560 - accuracy: 0.8053 - val_loss: 0.4635 - val_accuracy: 0.7910\n",
            "Epoch 29/100\n",
            "536/536 [==============================] - 1s 2ms/step - loss: 0.4491 - accuracy: 0.7974 - val_loss: 0.4607 - val_accuracy: 0.7910\n",
            "Epoch 30/100\n",
            "536/536 [==============================] - 1s 2ms/step - loss: 0.4723 - accuracy: 0.7923 - val_loss: 0.4599 - val_accuracy: 0.7910\n",
            "Epoch 31/100\n",
            "536/536 [==============================] - 1s 1ms/step - loss: 0.4721 - accuracy: 0.7902 - val_loss: 0.4590 - val_accuracy: 0.7910\n",
            "Epoch 32/100\n",
            "536/536 [==============================] - 1s 2ms/step - loss: 0.4622 - accuracy: 0.7932 - val_loss: 0.4583 - val_accuracy: 0.7910\n",
            "Epoch 33/100\n",
            "536/536 [==============================] - 1s 2ms/step - loss: 0.4637 - accuracy: 0.7951 - val_loss: 0.4572 - val_accuracy: 0.7910\n",
            "Epoch 34/100\n",
            "536/536 [==============================] - 1s 2ms/step - loss: 0.4553 - accuracy: 0.7977 - val_loss: 0.4557 - val_accuracy: 0.7910\n",
            "Epoch 35/100\n",
            "536/536 [==============================] - 1s 2ms/step - loss: 0.4728 - accuracy: 0.7897 - val_loss: 0.4557 - val_accuracy: 0.7910\n",
            "Epoch 36/100\n",
            "536/536 [==============================] - 1s 2ms/step - loss: 0.4503 - accuracy: 0.8001 - val_loss: 0.4561 - val_accuracy: 0.7910\n",
            "Epoch 37/100\n",
            "536/536 [==============================] - 1s 2ms/step - loss: 0.4628 - accuracy: 0.7893 - val_loss: 0.4546 - val_accuracy: 0.7910\n",
            "Epoch 38/100\n",
            "536/536 [==============================] - 1s 2ms/step - loss: 0.4451 - accuracy: 0.8016 - val_loss: 0.4536 - val_accuracy: 0.7910\n",
            "Epoch 39/100\n",
            "536/536 [==============================] - 1s 2ms/step - loss: 0.4355 - accuracy: 0.8103 - val_loss: 0.4535 - val_accuracy: 0.7910\n",
            "Epoch 40/100\n",
            "536/536 [==============================] - 1s 2ms/step - loss: 0.4511 - accuracy: 0.8047 - val_loss: 0.4537 - val_accuracy: 0.7910\n",
            "Epoch 41/100\n",
            "536/536 [==============================] - 1s 2ms/step - loss: 0.4653 - accuracy: 0.7904 - val_loss: 0.4522 - val_accuracy: 0.7910\n",
            "Epoch 42/100\n",
            "536/536 [==============================] - 1s 2ms/step - loss: 0.4538 - accuracy: 0.7972 - val_loss: 0.4518 - val_accuracy: 0.7910\n",
            "Epoch 43/100\n",
            "536/536 [==============================] - 1s 2ms/step - loss: 0.4677 - accuracy: 0.7932 - val_loss: 0.4510 - val_accuracy: 0.7910\n",
            "Epoch 44/100\n",
            "536/536 [==============================] - 1s 2ms/step - loss: 0.4535 - accuracy: 0.7940 - val_loss: 0.4501 - val_accuracy: 0.7910\n",
            "Epoch 45/100\n",
            "536/536 [==============================] - 1s 1ms/step - loss: 0.4621 - accuracy: 0.7946 - val_loss: 0.4492 - val_accuracy: 0.7914\n",
            "Epoch 46/100\n",
            "536/536 [==============================] - 1s 2ms/step - loss: 0.4499 - accuracy: 0.7951 - val_loss: 0.4493 - val_accuracy: 0.7914\n",
            "Epoch 47/100\n",
            "536/536 [==============================] - 1s 2ms/step - loss: 0.4568 - accuracy: 0.7934 - val_loss: 0.4507 - val_accuracy: 0.7914\n",
            "Epoch 48/100\n",
            "536/536 [==============================] - 1s 2ms/step - loss: 0.4498 - accuracy: 0.8015 - val_loss: 0.4499 - val_accuracy: 0.7914\n",
            "Epoch 49/100\n",
            "536/536 [==============================] - 1s 2ms/step - loss: 0.4371 - accuracy: 0.8043 - val_loss: 0.4492 - val_accuracy: 0.7914\n",
            "Epoch 50/100\n",
            "536/536 [==============================] - 1s 2ms/step - loss: 0.4611 - accuracy: 0.7933 - val_loss: 0.4481 - val_accuracy: 0.7914\n",
            "Epoch 51/100\n",
            "536/536 [==============================] - 1s 2ms/step - loss: 0.4494 - accuracy: 0.7973 - val_loss: 0.4457 - val_accuracy: 0.7914\n",
            "Epoch 52/100\n",
            "536/536 [==============================] - 1s 2ms/step - loss: 0.4588 - accuracy: 0.7985 - val_loss: 0.4457 - val_accuracy: 0.7914\n",
            "Epoch 53/100\n",
            "536/536 [==============================] - 1s 2ms/step - loss: 0.4617 - accuracy: 0.7956 - val_loss: 0.4458 - val_accuracy: 0.7917\n",
            "Epoch 54/100\n",
            "536/536 [==============================] - 1s 2ms/step - loss: 0.4500 - accuracy: 0.7959 - val_loss: 0.4451 - val_accuracy: 0.7917\n",
            "Epoch 55/100\n",
            "536/536 [==============================] - 1s 2ms/step - loss: 0.4253 - accuracy: 0.8062 - val_loss: 0.4439 - val_accuracy: 0.7917\n",
            "Epoch 56/100\n",
            "536/536 [==============================] - 1s 2ms/step - loss: 0.4421 - accuracy: 0.8043 - val_loss: 0.4434 - val_accuracy: 0.7917\n",
            "Epoch 57/100\n",
            "536/536 [==============================] - 1s 2ms/step - loss: 0.4511 - accuracy: 0.7977 - val_loss: 0.4438 - val_accuracy: 0.7921\n",
            "Epoch 58/100\n",
            "536/536 [==============================] - 1s 2ms/step - loss: 0.4412 - accuracy: 0.8024 - val_loss: 0.4429 - val_accuracy: 0.7940\n",
            "Epoch 59/100\n",
            "536/536 [==============================] - 1s 2ms/step - loss: 0.4557 - accuracy: 0.7946 - val_loss: 0.4420 - val_accuracy: 0.7944\n",
            "Epoch 60/100\n",
            "536/536 [==============================] - 1s 2ms/step - loss: 0.4377 - accuracy: 0.8009 - val_loss: 0.4421 - val_accuracy: 0.7944\n",
            "Epoch 61/100\n",
            "536/536 [==============================] - 1s 2ms/step - loss: 0.4541 - accuracy: 0.7928 - val_loss: 0.4417 - val_accuracy: 0.7955\n",
            "Epoch 62/100\n",
            "536/536 [==============================] - 1s 2ms/step - loss: 0.4329 - accuracy: 0.8079 - val_loss: 0.4410 - val_accuracy: 0.7955\n",
            "Epoch 63/100\n",
            "536/536 [==============================] - 1s 2ms/step - loss: 0.4280 - accuracy: 0.8105 - val_loss: 0.4410 - val_accuracy: 0.7955\n",
            "Epoch 64/100\n",
            "536/536 [==============================] - 1s 2ms/step - loss: 0.4493 - accuracy: 0.7984 - val_loss: 0.4388 - val_accuracy: 0.7955\n",
            "Epoch 65/100\n",
            "536/536 [==============================] - 1s 2ms/step - loss: 0.4512 - accuracy: 0.8000 - val_loss: 0.4388 - val_accuracy: 0.7959\n",
            "Epoch 66/100\n",
            "536/536 [==============================] - 1s 2ms/step - loss: 0.4415 - accuracy: 0.8047 - val_loss: 0.4389 - val_accuracy: 0.7970\n",
            "Epoch 67/100\n",
            "536/536 [==============================] - 1s 2ms/step - loss: 0.4230 - accuracy: 0.8033 - val_loss: 0.4383 - val_accuracy: 0.7970\n",
            "Epoch 68/100\n",
            "536/536 [==============================] - 1s 2ms/step - loss: 0.4401 - accuracy: 0.8070 - val_loss: 0.4369 - val_accuracy: 0.7986\n",
            "Epoch 69/100\n",
            "536/536 [==============================] - 1s 2ms/step - loss: 0.4399 - accuracy: 0.8040 - val_loss: 0.4360 - val_accuracy: 0.7993\n",
            "Epoch 70/100\n",
            "536/536 [==============================] - 1s 2ms/step - loss: 0.4477 - accuracy: 0.8001 - val_loss: 0.4352 - val_accuracy: 0.8016\n",
            "Epoch 71/100\n",
            "536/536 [==============================] - 1s 2ms/step - loss: 0.4335 - accuracy: 0.8013 - val_loss: 0.4335 - val_accuracy: 0.8023\n",
            "Epoch 72/100\n",
            "536/536 [==============================] - 1s 2ms/step - loss: 0.4374 - accuracy: 0.7974 - val_loss: 0.4322 - val_accuracy: 0.8035\n",
            "Epoch 73/100\n",
            "536/536 [==============================] - 1s 2ms/step - loss: 0.4219 - accuracy: 0.8159 - val_loss: 0.4322 - val_accuracy: 0.8039\n",
            "Epoch 74/100\n",
            "536/536 [==============================] - 1s 2ms/step - loss: 0.4321 - accuracy: 0.8088 - val_loss: 0.4329 - val_accuracy: 0.8039\n",
            "Epoch 75/100\n",
            "536/536 [==============================] - 1s 2ms/step - loss: 0.4256 - accuracy: 0.8053 - val_loss: 0.4305 - val_accuracy: 0.8042\n",
            "Epoch 76/100\n",
            "536/536 [==============================] - 1s 2ms/step - loss: 0.4291 - accuracy: 0.8079 - val_loss: 0.4304 - val_accuracy: 0.8042\n",
            "Epoch 77/100\n",
            "536/536 [==============================] - 1s 2ms/step - loss: 0.4417 - accuracy: 0.8013 - val_loss: 0.4295 - val_accuracy: 0.8042\n",
            "Epoch 78/100\n",
            "536/536 [==============================] - 1s 2ms/step - loss: 0.4289 - accuracy: 0.7982 - val_loss: 0.4287 - val_accuracy: 0.8050\n",
            "Epoch 79/100\n",
            "536/536 [==============================] - 1s 2ms/step - loss: 0.4338 - accuracy: 0.8037 - val_loss: 0.4271 - val_accuracy: 0.8054\n",
            "Epoch 80/100\n",
            "536/536 [==============================] - 1s 2ms/step - loss: 0.4274 - accuracy: 0.8091 - val_loss: 0.4264 - val_accuracy: 0.8061\n",
            "Epoch 81/100\n",
            "536/536 [==============================] - 1s 2ms/step - loss: 0.4188 - accuracy: 0.8127 - val_loss: 0.4256 - val_accuracy: 0.8061\n",
            "Epoch 82/100\n",
            "536/536 [==============================] - 1s 2ms/step - loss: 0.4240 - accuracy: 0.8073 - val_loss: 0.4249 - val_accuracy: 0.8065\n",
            "Epoch 83/100\n",
            "536/536 [==============================] - 1s 2ms/step - loss: 0.4284 - accuracy: 0.8051 - val_loss: 0.4235 - val_accuracy: 0.8061\n",
            "Epoch 84/100\n",
            "536/536 [==============================] - 1s 2ms/step - loss: 0.4320 - accuracy: 0.8101 - val_loss: 0.4225 - val_accuracy: 0.8069\n",
            "Epoch 85/100\n",
            "536/536 [==============================] - 1s 2ms/step - loss: 0.4285 - accuracy: 0.8017 - val_loss: 0.4228 - val_accuracy: 0.8080\n",
            "Epoch 86/100\n",
            "536/536 [==============================] - 1s 2ms/step - loss: 0.4125 - accuracy: 0.8138 - val_loss: 0.4218 - val_accuracy: 0.8084\n",
            "Epoch 87/100\n",
            "536/536 [==============================] - 1s 2ms/step - loss: 0.4257 - accuracy: 0.8095 - val_loss: 0.4213 - val_accuracy: 0.8088\n",
            "Epoch 88/100\n",
            "536/536 [==============================] - 1s 2ms/step - loss: 0.4232 - accuracy: 0.8105 - val_loss: 0.4205 - val_accuracy: 0.8088\n",
            "Epoch 89/100\n",
            "536/536 [==============================] - 1s 2ms/step - loss: 0.4252 - accuracy: 0.8045 - val_loss: 0.4183 - val_accuracy: 0.8095\n",
            "Epoch 90/100\n",
            "536/536 [==============================] - 1s 2ms/step - loss: 0.4268 - accuracy: 0.8119 - val_loss: 0.4184 - val_accuracy: 0.8099\n",
            "Epoch 91/100\n",
            "536/536 [==============================] - 1s 2ms/step - loss: 0.4149 - accuracy: 0.8109 - val_loss: 0.4168 - val_accuracy: 0.8099\n",
            "Epoch 92/100\n",
            "536/536 [==============================] - 1s 2ms/step - loss: 0.4112 - accuracy: 0.8183 - val_loss: 0.4171 - val_accuracy: 0.8103\n",
            "Epoch 93/100\n",
            "536/536 [==============================] - 1s 2ms/step - loss: 0.4295 - accuracy: 0.8087 - val_loss: 0.4169 - val_accuracy: 0.8103\n",
            "Epoch 94/100\n",
            "536/536 [==============================] - 1s 2ms/step - loss: 0.4028 - accuracy: 0.8223 - val_loss: 0.4158 - val_accuracy: 0.8103\n",
            "Epoch 95/100\n",
            "536/536 [==============================] - 1s 2ms/step - loss: 0.4225 - accuracy: 0.8096 - val_loss: 0.4159 - val_accuracy: 0.8103\n",
            "Epoch 96/100\n",
            "536/536 [==============================] - 1s 2ms/step - loss: 0.4230 - accuracy: 0.8131 - val_loss: 0.4149 - val_accuracy: 0.8103\n",
            "Epoch 97/100\n",
            "536/536 [==============================] - 1s 2ms/step - loss: 0.4177 - accuracy: 0.8122 - val_loss: 0.4153 - val_accuracy: 0.8107\n",
            "Epoch 98/100\n",
            "536/536 [==============================] - 1s 2ms/step - loss: 0.4220 - accuracy: 0.8065 - val_loss: 0.4140 - val_accuracy: 0.8114\n",
            "Epoch 99/100\n",
            "536/536 [==============================] - 1s 2ms/step - loss: 0.4175 - accuracy: 0.8116 - val_loss: 0.4134 - val_accuracy: 0.8118\n",
            "Epoch 100/100\n",
            "536/536 [==============================] - 1s 2ms/step - loss: 0.4142 - accuracy: 0.8124 - val_loss: 0.4126 - val_accuracy: 0.8126\n"
          ],
          "name": "stdout"
        }
      ]
    },
    {
      "cell_type": "code",
      "metadata": {
        "colab": {
          "base_uri": "https://localhost:8080/"
        },
        "id": "vgBStaDXP8Ig",
        "outputId": "e235c09a-5d71-48b1-ac4a-7b786f1a0c93"
      },
      "source": [
        "y_pred = classifier.predict(X_test)\r\n",
        "y_pred = (y_pred >0.5)\r\n",
        "\r\n",
        "cm = confusion_matrix(y_test, y_pred)\r\n",
        "\r\n",
        "score = accuracy_score(y_pred, y_test)\r\n",
        "print(cm)\r\n",
        "print(score)"
      ],
      "execution_count": 30,
      "outputs": [
        {
          "output_type": "stream",
          "text": [
            "[[1600    7]\n",
            " [ 344   49]]\n",
            "0.8245\n"
          ],
          "name": "stdout"
        }
      ]
    },
    {
      "cell_type": "code",
      "metadata": {
        "colab": {
          "base_uri": "https://localhost:8080/"
        },
        "id": "seZ7mq0dR2-4",
        "outputId": "495c02c8-54fd-494d-ef16-e930f1dcfaff"
      },
      "source": [
        "import tensorflow\r\n",
        "print(tensorflow.__version__)"
      ],
      "execution_count": 31,
      "outputs": [
        {
          "output_type": "stream",
          "text": [
            "2.4.0\n"
          ],
          "name": "stdout"
        }
      ]
    },
    {
      "cell_type": "code",
      "metadata": {
        "colab": {
          "base_uri": "https://localhost:8080/"
        },
        "id": "-Er-M3F8SSmU",
        "outputId": "4e43ed4f-e4e0-4919-c11a-ee3aa5bbf03f"
      },
      "source": [
        "!pip install keras-tuner"
      ],
      "execution_count": 32,
      "outputs": [
        {
          "output_type": "stream",
          "text": [
            "Collecting keras-tuner\n",
            "\u001b[?25l  Downloading https://files.pythonhosted.org/packages/20/ec/1ef246787174b1e2bb591c95f29d3c1310070cad877824f907faba3dade9/keras-tuner-1.0.2.tar.gz (62kB)\n",
            "\r\u001b[K     |█████▏                          | 10kB 13.8MB/s eta 0:00:01\r\u001b[K     |██████████▍                     | 20kB 18.8MB/s eta 0:00:01\r\u001b[K     |███████████████▋                | 30kB 12.9MB/s eta 0:00:01\r\u001b[K     |████████████████████▉           | 40kB 10.3MB/s eta 0:00:01\r\u001b[K     |██████████████████████████      | 51kB 9.4MB/s eta 0:00:01\r\u001b[K     |███████████████████████████████▎| 61kB 9.7MB/s eta 0:00:01\r\u001b[K     |████████████████████████████████| 71kB 4.3MB/s \n",
            "\u001b[?25hRequirement already satisfied: packaging in /usr/local/lib/python3.6/dist-packages (from keras-tuner) (20.8)\n",
            "Requirement already satisfied: future in /usr/local/lib/python3.6/dist-packages (from keras-tuner) (0.16.0)\n",
            "Requirement already satisfied: numpy in /usr/local/lib/python3.6/dist-packages (from keras-tuner) (1.19.5)\n",
            "Requirement already satisfied: tabulate in /usr/local/lib/python3.6/dist-packages (from keras-tuner) (0.8.7)\n",
            "Collecting terminaltables\n",
            "  Downloading https://files.pythonhosted.org/packages/9b/c4/4a21174f32f8a7e1104798c445dacdc1d4df86f2f26722767034e4de4bff/terminaltables-3.1.0.tar.gz\n",
            "Collecting colorama\n",
            "  Downloading https://files.pythonhosted.org/packages/44/98/5b86278fbbf250d239ae0ecb724f8572af1c91f4a11edf4d36a206189440/colorama-0.4.4-py2.py3-none-any.whl\n",
            "Requirement already satisfied: tqdm in /usr/local/lib/python3.6/dist-packages (from keras-tuner) (4.41.1)\n",
            "Requirement already satisfied: requests in /usr/local/lib/python3.6/dist-packages (from keras-tuner) (2.23.0)\n",
            "Requirement already satisfied: scipy in /usr/local/lib/python3.6/dist-packages (from keras-tuner) (1.4.1)\n",
            "Requirement already satisfied: scikit-learn in /usr/local/lib/python3.6/dist-packages (from keras-tuner) (0.22.2.post1)\n",
            "Requirement already satisfied: pyparsing>=2.0.2 in /usr/local/lib/python3.6/dist-packages (from packaging->keras-tuner) (2.4.7)\n",
            "Requirement already satisfied: chardet<4,>=3.0.2 in /usr/local/lib/python3.6/dist-packages (from requests->keras-tuner) (3.0.4)\n",
            "Requirement already satisfied: urllib3!=1.25.0,!=1.25.1,<1.26,>=1.21.1 in /usr/local/lib/python3.6/dist-packages (from requests->keras-tuner) (1.24.3)\n",
            "Requirement already satisfied: certifi>=2017.4.17 in /usr/local/lib/python3.6/dist-packages (from requests->keras-tuner) (2020.12.5)\n",
            "Requirement already satisfied: idna<3,>=2.5 in /usr/local/lib/python3.6/dist-packages (from requests->keras-tuner) (2.10)\n",
            "Requirement already satisfied: joblib>=0.11 in /usr/local/lib/python3.6/dist-packages (from scikit-learn->keras-tuner) (1.0.0)\n",
            "Building wheels for collected packages: keras-tuner, terminaltables\n",
            "  Building wheel for keras-tuner (setup.py) ... \u001b[?25l\u001b[?25hdone\n",
            "  Created wheel for keras-tuner: filename=keras_tuner-1.0.2-cp36-none-any.whl size=78939 sha256=f3282655fc29263972256c87dc0a4ff9ec2692eaa3de95dda0fa6acbcd91aa1a\n",
            "  Stored in directory: /root/.cache/pip/wheels/bb/a1/8a/7c3de0efb3707a1701b36ebbfdbc4e67aedf6d4943a1f463d6\n",
            "  Building wheel for terminaltables (setup.py) ... \u001b[?25l\u001b[?25hdone\n",
            "  Created wheel for terminaltables: filename=terminaltables-3.1.0-cp36-none-any.whl size=15358 sha256=2b8e58f3b0949db1f01a6f6ca30c241f36052583db0afe408ab0df2797493d39\n",
            "  Stored in directory: /root/.cache/pip/wheels/30/6b/50/6c75775b681fb36cdfac7f19799888ef9d8813aff9e379663e\n",
            "Successfully built keras-tuner terminaltables\n",
            "Installing collected packages: terminaltables, colorama, keras-tuner\n",
            "Successfully installed colorama-0.4.4 keras-tuner-1.0.2 terminaltables-3.1.0\n"
          ],
          "name": "stdout"
        }
      ]
    },
    {
      "cell_type": "code",
      "metadata": {
        "id": "FyuN0RsMRw82"
      },
      "source": [
        "from kerastuner.tuners import RandomSearch"
      ],
      "execution_count": 33,
      "outputs": []
    },
    {
      "cell_type": "code",
      "metadata": {
        "id": "u-c7453OS2hK"
      },
      "source": [
        "def build_model(hp):\r\n",
        "  model = keras.Sequential()\r\n",
        "  for i in range(hp.Int('num_layers', 2, 20)):\r\n",
        "      model.add(layers.Dense(units=hp.Int('units_' + str(i),\r\n",
        "                                          min_value=32,\r\n",
        "                                          max_value=512,\r\n",
        "                                          step=32),\r\n",
        "                              activation='relu'))\r\n",
        "  model.add(layers.Dense(1, activation='sigmoid'))\r\n",
        "  model.compile(\r\n",
        "      optimizer=keras.optimizers.Adam(\r\n",
        "          hp.Choice('learning_rate', [1e-2, 1e-3, 1e-4])),\r\n",
        "      loss='binary_crossentropy',\r\n",
        "      metrics=['accuracy'])\r\n",
        "  return model"
      ],
      "execution_count": 55,
      "outputs": []
    },
    {
      "cell_type": "code",
      "metadata": {
        "colab": {
          "base_uri": "https://localhost:8080/"
        },
        "id": "xwtiLWATTuOt",
        "outputId": "0ba88015-3785-44fa-9712-b32e22bc45e4"
      },
      "source": [
        "from tensorflow import keras\r\n",
        "from tensorflow.keras import layers\r\n",
        "from kerastuner.tuners import RandomSearch\r\n",
        "tuner = RandomSearch(\r\n",
        "    build_model,\r\n",
        "    objective='val_accuracy',\r\n",
        "    max_trials=5,\r\n",
        "    executions_per_trial=3,\r\n",
        "    # directory='project1',\r\n",
        "    # project_name='Churn'\r\n",
        "    )"
      ],
      "execution_count": 56,
      "outputs": [
        {
          "output_type": "stream",
          "text": [
            "INFO:tensorflow:Reloading Oracle from existing project ./untitled_project/oracle.json\n",
            "INFO:tensorflow:Reloading Tuner from ./untitled_project/tuner0.json\n"
          ],
          "name": "stdout"
        }
      ]
    },
    {
      "cell_type": "code",
      "metadata": {
        "colab": {
          "base_uri": "https://localhost:8080/"
        },
        "id": "PwmLUByFe2KO",
        "outputId": "6d03759b-9756-4ca8-dee7-1dfcaa4ecee9"
      },
      "source": [
        "tuner.search_space_summary()"
      ],
      "execution_count": 57,
      "outputs": [
        {
          "output_type": "stream",
          "text": [
            "Search space summary\n",
            "Default search space size: 19\n",
            "num_layers (Int)\n",
            "{'default': None, 'conditions': [], 'min_value': 2, 'max_value': 20, 'step': 1, 'sampling': None}\n",
            "units_0 (Int)\n",
            "{'default': None, 'conditions': [], 'min_value': 32, 'max_value': 512, 'step': 32, 'sampling': None}\n",
            "units_1 (Int)\n",
            "{'default': None, 'conditions': [], 'min_value': 32, 'max_value': 512, 'step': 32, 'sampling': None}\n",
            "learning_rate (Choice)\n",
            "{'default': 0.01, 'conditions': [], 'values': [0.01, 0.001, 0.0001], 'ordered': True}\n",
            "units_2 (Int)\n",
            "{'default': None, 'conditions': [], 'min_value': 32, 'max_value': 512, 'step': 32, 'sampling': None}\n",
            "units_3 (Int)\n",
            "{'default': None, 'conditions': [], 'min_value': 32, 'max_value': 512, 'step': 32, 'sampling': None}\n",
            "units_4 (Int)\n",
            "{'default': None, 'conditions': [], 'min_value': 32, 'max_value': 512, 'step': 32, 'sampling': None}\n",
            "units_5 (Int)\n",
            "{'default': None, 'conditions': [], 'min_value': 32, 'max_value': 512, 'step': 32, 'sampling': None}\n",
            "units_6 (Int)\n",
            "{'default': None, 'conditions': [], 'min_value': 32, 'max_value': 512, 'step': 32, 'sampling': None}\n",
            "units_7 (Int)\n",
            "{'default': None, 'conditions': [], 'min_value': 32, 'max_value': 512, 'step': 32, 'sampling': None}\n",
            "units_8 (Int)\n",
            "{'default': None, 'conditions': [], 'min_value': 32, 'max_value': 512, 'step': 32, 'sampling': None}\n",
            "units_9 (Int)\n",
            "{'default': None, 'conditions': [], 'min_value': 32, 'max_value': 512, 'step': 32, 'sampling': None}\n",
            "units_10 (Int)\n",
            "{'default': None, 'conditions': [], 'min_value': 32, 'max_value': 512, 'step': 32, 'sampling': None}\n",
            "units_11 (Int)\n",
            "{'default': None, 'conditions': [], 'min_value': 32, 'max_value': 512, 'step': 32, 'sampling': None}\n",
            "units_12 (Int)\n",
            "{'default': None, 'conditions': [], 'min_value': 32, 'max_value': 512, 'step': 32, 'sampling': None}\n",
            "units_13 (Int)\n",
            "{'default': None, 'conditions': [], 'min_value': 32, 'max_value': 512, 'step': 32, 'sampling': None}\n",
            "units_14 (Int)\n",
            "{'default': None, 'conditions': [], 'min_value': 32, 'max_value': 512, 'step': 32, 'sampling': None}\n",
            "units_15 (Int)\n",
            "{'default': None, 'conditions': [], 'min_value': 32, 'max_value': 512, 'step': 32, 'sampling': None}\n",
            "units_16 (Int)\n",
            "{'default': None, 'conditions': [], 'min_value': 32, 'max_value': 512, 'step': 32, 'sampling': None}\n"
          ],
          "name": "stdout"
        }
      ]
    },
    {
      "cell_type": "code",
      "metadata": {
        "colab": {
          "base_uri": "https://localhost:8080/"
        },
        "id": "aGpB-tene9Vq",
        "outputId": "75fc6250-ca3f-4524-b764-fb15ebf2501b"
      },
      "source": [
        "tuner.search(X_train, y_train,\r\n",
        "             epochs=20,\r\n",
        "             validation_data=(X_test, y_test))"
      ],
      "execution_count": 59,
      "outputs": [
        {
          "output_type": "stream",
          "text": [
            "INFO:tensorflow:Oracle triggered exit\n"
          ],
          "name": "stdout"
        }
      ]
    },
    {
      "cell_type": "code",
      "metadata": {
        "colab": {
          "base_uri": "https://localhost:8080/"
        },
        "id": "Sx6KxQ1lhAC9",
        "outputId": "3dbfd421-d9a9-4dc5-a08a-2c0f56d75232"
      },
      "source": [
        "tuner.search(X_train, y_train,\r\n",
        "             epochs=20,\r\n",
        "             validation_data=(X_test, y_test))"
      ],
      "execution_count": 60,
      "outputs": [
        {
          "output_type": "stream",
          "text": [
            "INFO:tensorflow:Oracle triggered exit\n"
          ],
          "name": "stdout"
        }
      ]
    },
    {
      "cell_type": "code",
      "metadata": {
        "colab": {
          "base_uri": "https://localhost:8080/"
        },
        "id": "287Gv2Qrf6nJ",
        "outputId": "9ffe5634-54ca-4481-c25a-8fdf334be2cc"
      },
      "source": [
        "tuner.get_best_hyperparameters"
      ],
      "execution_count": 48,
      "outputs": [
        {
          "output_type": "execute_result",
          "data": {
            "text/plain": [
              "<bound method BaseTuner.get_best_hyperparameters of <kerastuner.tuners.randomsearch.RandomSearch object at 0x7f735924a710>>"
            ]
          },
          "metadata": {
            "tags": []
          },
          "execution_count": 48
        }
      ]
    },
    {
      "cell_type": "code",
      "metadata": {
        "colab": {
          "base_uri": "https://localhost:8080/"
        },
        "id": "cMwW5BXAf-nm",
        "outputId": "986bb060-b52f-436f-acfa-d5993efa2f1f"
      },
      "source": [
        "tuner.get_best_models()"
      ],
      "execution_count": 50,
      "outputs": [
        {
          "output_type": "execute_result",
          "data": {
            "text/plain": [
              "[<tensorflow.python.keras.engine.sequential.Sequential at 0x7f7351470320>]"
            ]
          },
          "metadata": {
            "tags": []
          },
          "execution_count": 50
        }
      ]
    }
  ]
}